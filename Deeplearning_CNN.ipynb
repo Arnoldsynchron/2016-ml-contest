{
  "nbformat": 4,
  "nbformat_minor": 0,
  "metadata": {
    "colab": {
      "name": "Deeplearning CNN",
      "provenance": [],
      "collapsed_sections": [],
      "authorship_tag": "ABX9TyPyKlS8eWKaS/hyacKTyqzN",
      "include_colab_link": true
    },
    "kernelspec": {
      "name": "python3",
      "display_name": "Python 3"
    }
  },
  "cells": [
    {
      "cell_type": "markdown",
      "metadata": {
        "id": "view-in-github",
        "colab_type": "text"
      },
      "source": [
        "<a href=\"https://colab.research.google.com/github/Arnoldsynchron/2016-ml-contest/blob/master/Deeplearning_CNN.ipynb\" target=\"_parent\"><img src=\"https://colab.research.google.com/assets/colab-badge.svg\" alt=\"Open In Colab\"/></a>"
      ]
    },
    {
      "cell_type": "markdown",
      "metadata": {
        "id": "WkZ69ByulsG4",
        "colab_type": "text"
      },
      "source": [
        "# **Deeplearning in Prediction of Geological Facies(Convolution Neural Nets)**"
      ]
    },
    {
      "cell_type": "markdown",
      "metadata": {
        "id": "z2O_tPM9mE_o",
        "colab_type": "text"
      },
      "source": [
        "Prediction of geological surface using available data found in the github [seg](www.github.c0m/seg) repository\n"
      ]
    },
    {
      "cell_type": "code",
      "metadata": {
        "id": "9YOEMXIKjKoy",
        "colab_type": "code",
        "colab": {
          "base_uri": "https://localhost:8080/",
          "height": 33
        },
        "outputId": "78d1c6e4-3572-4779-b473-4ce6cf376ca7"
      },
      "source": [
        "from google.colab import drive\n",
        "drive.mount('/content/gdrive')\n",
        "# ls '/content/gdrive/My Drive/Data'"
      ],
      "execution_count": 53,
      "outputs": [
        {
          "output_type": "stream",
          "text": [
            "Drive already mounted at /content/gdrive; to attempt to forcibly remount, call drive.mount(\"/content/gdrive\", force_remount=True).\n"
          ],
          "name": "stdout"
        }
      ]
    },
    {
      "cell_type": "code",
      "metadata": {
        "id": "tjEAHVW2jvni",
        "colab_type": "code",
        "colab": {}
      },
      "source": [
        "%matplotlib inline\n",
        "import pandas as pd\n",
        "import numpy as np\n",
        "import time\n",
        "import warnings\n",
        "warnings.filterwarnings('ignore')\n",
        "from pandas import set_option\n",
        "\n",
        "from sklearn import preprocessing\n",
        "from sklearn.metrics import confusion_matrix, f1_score,accuracy_score\n",
        "\n",
        "from collections import Counter\n",
        "import operator\n",
        "\n",
        "from keras.models import Model, Sequential\n",
        "from keras.layers import Convolution1D, Convolution2D, Dense, Input, Dropout, Flatten, MaxPooling2D, Activation, normalization\n",
        "from keras.optimizers import Nadam\n",
        "from keras.utils import np_utils\n",
        "from keras.utils.np_utils import to_categorical\n",
        "from keras.callbacks import History\n",
        "\n",
        "from keras.wrappers.scikit_learn import KerasClassifier\n",
        "from sklearn.model_selection import cross_val_score\n",
        "from sklearn.model_selection import KFold, StratifiedKFold\n",
        "np.random.seed(123)"
      ],
      "execution_count": 195,
      "outputs": []
    },
    {
      "cell_type": "code",
      "metadata": {
        "id": "-Qn1Pj5qnJ2w",
        "colab_type": "code",
        "colab": {}
      },
      "source": [
        "def accuracy(conf):\n",
        "    total_correct = 0.\n",
        "    nb_classes = conf.shape[0]\n",
        "    for i in np.arange(0,nb_classes):\n",
        "        total_correct += conf[i][i]\n",
        "    acc = total_correct/sum(sum(conf))\n",
        "    return acc\n",
        "\n",
        "def label_facies(row, labels):\n",
        "    return labels[ row['Facies'] -1]\n",
        "  \n",
        "def accuracy_adj(conf, adjacent_facies):\n",
        "  total_correct = 0\n",
        "  nb_classes = conf.shape[0]\n",
        "  for i in np.arange(0, nb_classes):\n",
        "    total_correct +=conf[i][i]\n",
        "    for j in adjacent_facies[i]:\n",
        "      total_correct += conf[i][j]\n",
        "  return total_correct/sum(sum(conf))\n",
        "\n",
        "file = pd.read_csv('/content/gdrive/My Drive/Data/train_test_data.csv')"
      ],
      "execution_count": 196,
      "outputs": []
    },
    {
      "cell_type": "code",
      "metadata": {
        "id": "PaFg8KHdheCM",
        "colab_type": "code",
        "colab": {
          "base_uri": "https://localhost:8080/",
          "height": 386
        },
        "outputId": "ccf01f12-757b-46b7-8dcb-dc265b17b5cd"
      },
      "source": [
        "print(file.isna().mean().sort_values(ascending=False))\n",
        "file.head()"
      ],
      "execution_count": 197,
      "outputs": [
        {
          "output_type": "stream",
          "text": [
            "PE           0.184174\n",
            "RELPOS       0.000000\n",
            "NM_M         0.000000\n",
            "PHIND        0.000000\n",
            "DeltaPHI     0.000000\n",
            "               ...   \n",
            "GR           0.000000\n",
            "Depth        0.000000\n",
            "Well Name    0.000000\n",
            "Formation    0.000000\n",
            "Facies       0.000000\n",
            "Length: 11, dtype: float64\n"
          ],
          "name": "stdout"
        },
        {
          "output_type": "execute_result",
          "data": {
            "text/html": [
              "<div>\n",
              "<style scoped>\n",
              "    .dataframe tbody tr th:only-of-type {\n",
              "        vertical-align: middle;\n",
              "    }\n",
              "\n",
              "    .dataframe tbody tr th {\n",
              "        vertical-align: top;\n",
              "    }\n",
              "\n",
              "    .dataframe thead th {\n",
              "        text-align: right;\n",
              "    }\n",
              "</style>\n",
              "<table border=\"1\" class=\"dataframe\">\n",
              "  <thead>\n",
              "    <tr style=\"text-align: right;\">\n",
              "      <th></th>\n",
              "      <th>Facies</th>\n",
              "      <th>Formation</th>\n",
              "      <th>Well Name</th>\n",
              "      <th>Depth</th>\n",
              "      <th>GR</th>\n",
              "      <th>ILD_log10</th>\n",
              "      <th>DeltaPHI</th>\n",
              "      <th>PHIND</th>\n",
              "      <th>PE</th>\n",
              "      <th>NM_M</th>\n",
              "      <th>RELPOS</th>\n",
              "    </tr>\n",
              "  </thead>\n",
              "  <tbody>\n",
              "    <tr>\n",
              "      <th>0</th>\n",
              "      <td>3</td>\n",
              "      <td>A1 SH</td>\n",
              "      <td>SHRIMPLIN</td>\n",
              "      <td>2793.0</td>\n",
              "      <td>77.45</td>\n",
              "      <td>0.664</td>\n",
              "      <td>9.9</td>\n",
              "      <td>11.915</td>\n",
              "      <td>4.6</td>\n",
              "      <td>1</td>\n",
              "      <td>1.000</td>\n",
              "    </tr>\n",
              "    <tr>\n",
              "      <th>1</th>\n",
              "      <td>3</td>\n",
              "      <td>A1 SH</td>\n",
              "      <td>SHRIMPLIN</td>\n",
              "      <td>2793.5</td>\n",
              "      <td>78.26</td>\n",
              "      <td>0.661</td>\n",
              "      <td>14.2</td>\n",
              "      <td>12.565</td>\n",
              "      <td>4.1</td>\n",
              "      <td>1</td>\n",
              "      <td>0.979</td>\n",
              "    </tr>\n",
              "    <tr>\n",
              "      <th>2</th>\n",
              "      <td>3</td>\n",
              "      <td>A1 SH</td>\n",
              "      <td>SHRIMPLIN</td>\n",
              "      <td>2794.0</td>\n",
              "      <td>79.05</td>\n",
              "      <td>0.658</td>\n",
              "      <td>14.8</td>\n",
              "      <td>13.050</td>\n",
              "      <td>3.6</td>\n",
              "      <td>1</td>\n",
              "      <td>0.957</td>\n",
              "    </tr>\n",
              "    <tr>\n",
              "      <th>3</th>\n",
              "      <td>3</td>\n",
              "      <td>A1 SH</td>\n",
              "      <td>SHRIMPLIN</td>\n",
              "      <td>2794.5</td>\n",
              "      <td>86.10</td>\n",
              "      <td>0.655</td>\n",
              "      <td>13.9</td>\n",
              "      <td>13.115</td>\n",
              "      <td>3.5</td>\n",
              "      <td>1</td>\n",
              "      <td>0.936</td>\n",
              "    </tr>\n",
              "    <tr>\n",
              "      <th>4</th>\n",
              "      <td>3</td>\n",
              "      <td>A1 SH</td>\n",
              "      <td>SHRIMPLIN</td>\n",
              "      <td>2795.0</td>\n",
              "      <td>74.58</td>\n",
              "      <td>0.647</td>\n",
              "      <td>13.5</td>\n",
              "      <td>13.300</td>\n",
              "      <td>3.4</td>\n",
              "      <td>1</td>\n",
              "      <td>0.915</td>\n",
              "    </tr>\n",
              "  </tbody>\n",
              "</table>\n",
              "</div>"
            ],
            "text/plain": [
              "   Facies Formation  Well Name   Depth  ...   PHIND   PE  NM_M  RELPOS\n",
              "0       3     A1 SH  SHRIMPLIN  2793.0  ...  11.915  4.6     1   1.000\n",
              "1       3     A1 SH  SHRIMPLIN  2793.5  ...  12.565  4.1     1   0.979\n",
              "2       3     A1 SH  SHRIMPLIN  2794.0  ...  13.050  3.6     1   0.957\n",
              "3       3     A1 SH  SHRIMPLIN  2794.5  ...  13.115  3.5     1   0.936\n",
              "4       3     A1 SH  SHRIMPLIN  2795.0  ...  13.300  3.4     1   0.915\n",
              "\n",
              "[5 rows x 11 columns]"
            ]
          },
          "metadata": {
            "tags": []
          },
          "execution_count": 197
        }
      ]
    },
    {
      "cell_type": "markdown",
      "metadata": {
        "id": "W9B87CMgLuaX",
        "colab_type": "text"
      },
      "source": [
        "# Prediction of PE values\n"
      ]
    },
    {
      "cell_type": "code",
      "metadata": {
        "id": "VTtkWuZHKoak",
        "colab_type": "code",
        "colab": {
          "base_uri": "https://localhost:8080/",
          "height": 391
        },
        "outputId": "22dd5a9d-b93a-46d5-98ad-baf38059aa34"
      },
      "source": [
        "file[file['PE'].notnull()]"
      ],
      "execution_count": 199,
      "outputs": [
        {
          "output_type": "execute_result",
          "data": {
            "text/html": [
              "<div>\n",
              "<style scoped>\n",
              "    .dataframe tbody tr th:only-of-type {\n",
              "        vertical-align: middle;\n",
              "    }\n",
              "\n",
              "    .dataframe tbody tr th {\n",
              "        vertical-align: top;\n",
              "    }\n",
              "\n",
              "    .dataframe thead th {\n",
              "        text-align: right;\n",
              "    }\n",
              "</style>\n",
              "<table border=\"1\" class=\"dataframe\">\n",
              "  <thead>\n",
              "    <tr style=\"text-align: right;\">\n",
              "      <th></th>\n",
              "      <th>Facies</th>\n",
              "      <th>Formation</th>\n",
              "      <th>Well Name</th>\n",
              "      <th>Depth</th>\n",
              "      <th>GR</th>\n",
              "      <th>ILD_log10</th>\n",
              "      <th>DeltaPHI</th>\n",
              "      <th>PHIND</th>\n",
              "      <th>PE</th>\n",
              "      <th>NM_M</th>\n",
              "      <th>RELPOS</th>\n",
              "    </tr>\n",
              "  </thead>\n",
              "  <tbody>\n",
              "    <tr>\n",
              "      <th>0</th>\n",
              "      <td>3</td>\n",
              "      <td>A1 SH</td>\n",
              "      <td>SHRIMPLIN</td>\n",
              "      <td>2793.0</td>\n",
              "      <td>77.450</td>\n",
              "      <td>0.664</td>\n",
              "      <td>9.900</td>\n",
              "      <td>11.915</td>\n",
              "      <td>4.600</td>\n",
              "      <td>1</td>\n",
              "      <td>1.000</td>\n",
              "    </tr>\n",
              "    <tr>\n",
              "      <th>1</th>\n",
              "      <td>3</td>\n",
              "      <td>A1 SH</td>\n",
              "      <td>SHRIMPLIN</td>\n",
              "      <td>2793.5</td>\n",
              "      <td>78.260</td>\n",
              "      <td>0.661</td>\n",
              "      <td>14.200</td>\n",
              "      <td>12.565</td>\n",
              "      <td>4.100</td>\n",
              "      <td>1</td>\n",
              "      <td>0.979</td>\n",
              "    </tr>\n",
              "    <tr>\n",
              "      <th>2</th>\n",
              "      <td>3</td>\n",
              "      <td>A1 SH</td>\n",
              "      <td>SHRIMPLIN</td>\n",
              "      <td>2794.0</td>\n",
              "      <td>79.050</td>\n",
              "      <td>0.658</td>\n",
              "      <td>14.800</td>\n",
              "      <td>13.050</td>\n",
              "      <td>3.600</td>\n",
              "      <td>1</td>\n",
              "      <td>0.957</td>\n",
              "    </tr>\n",
              "    <tr>\n",
              "      <th>3</th>\n",
              "      <td>3</td>\n",
              "      <td>A1 SH</td>\n",
              "      <td>SHRIMPLIN</td>\n",
              "      <td>2794.5</td>\n",
              "      <td>86.100</td>\n",
              "      <td>0.655</td>\n",
              "      <td>13.900</td>\n",
              "      <td>13.115</td>\n",
              "      <td>3.500</td>\n",
              "      <td>1</td>\n",
              "      <td>0.936</td>\n",
              "    </tr>\n",
              "    <tr>\n",
              "      <th>4</th>\n",
              "      <td>3</td>\n",
              "      <td>A1 SH</td>\n",
              "      <td>SHRIMPLIN</td>\n",
              "      <td>2795.0</td>\n",
              "      <td>74.580</td>\n",
              "      <td>0.647</td>\n",
              "      <td>13.500</td>\n",
              "      <td>13.300</td>\n",
              "      <td>3.400</td>\n",
              "      <td>1</td>\n",
              "      <td>0.915</td>\n",
              "    </tr>\n",
              "    <tr>\n",
              "      <th>...</th>\n",
              "      <td>...</td>\n",
              "      <td>...</td>\n",
              "      <td>...</td>\n",
              "      <td>...</td>\n",
              "      <td>...</td>\n",
              "      <td>...</td>\n",
              "      <td>...</td>\n",
              "      <td>...</td>\n",
              "      <td>...</td>\n",
              "      <td>...</td>\n",
              "      <td>...</td>\n",
              "    </tr>\n",
              "    <tr>\n",
              "      <th>4974</th>\n",
              "      <td>0</td>\n",
              "      <td>C SH</td>\n",
              "      <td>CRAWFORD</td>\n",
              "      <td>3158.5</td>\n",
              "      <td>86.078</td>\n",
              "      <td>0.554</td>\n",
              "      <td>5.040</td>\n",
              "      <td>16.150</td>\n",
              "      <td>3.161</td>\n",
              "      <td>1</td>\n",
              "      <td>0.639</td>\n",
              "    </tr>\n",
              "    <tr>\n",
              "      <th>4975</th>\n",
              "      <td>0</td>\n",
              "      <td>C SH</td>\n",
              "      <td>CRAWFORD</td>\n",
              "      <td>3159.0</td>\n",
              "      <td>88.855</td>\n",
              "      <td>0.539</td>\n",
              "      <td>5.560</td>\n",
              "      <td>16.750</td>\n",
              "      <td>3.118</td>\n",
              "      <td>1</td>\n",
              "      <td>0.611</td>\n",
              "    </tr>\n",
              "    <tr>\n",
              "      <th>4976</th>\n",
              "      <td>0</td>\n",
              "      <td>C SH</td>\n",
              "      <td>CRAWFORD</td>\n",
              "      <td>3159.5</td>\n",
              "      <td>90.490</td>\n",
              "      <td>0.530</td>\n",
              "      <td>6.360</td>\n",
              "      <td>16.780</td>\n",
              "      <td>3.168</td>\n",
              "      <td>1</td>\n",
              "      <td>0.583</td>\n",
              "    </tr>\n",
              "    <tr>\n",
              "      <th>4977</th>\n",
              "      <td>0</td>\n",
              "      <td>C SH</td>\n",
              "      <td>CRAWFORD</td>\n",
              "      <td>3160.0</td>\n",
              "      <td>90.975</td>\n",
              "      <td>0.522</td>\n",
              "      <td>7.035</td>\n",
              "      <td>16.995</td>\n",
              "      <td>3.154</td>\n",
              "      <td>1</td>\n",
              "      <td>0.556</td>\n",
              "    </tr>\n",
              "    <tr>\n",
              "      <th>4978</th>\n",
              "      <td>0</td>\n",
              "      <td>C SH</td>\n",
              "      <td>CRAWFORD</td>\n",
              "      <td>3160.5</td>\n",
              "      <td>90.108</td>\n",
              "      <td>0.513</td>\n",
              "      <td>7.505</td>\n",
              "      <td>17.595</td>\n",
              "      <td>3.125</td>\n",
              "      <td>1</td>\n",
              "      <td>0.528</td>\n",
              "    </tr>\n",
              "  </tbody>\n",
              "</table>\n",
              "<p>4062 rows × 11 columns</p>\n",
              "</div>"
            ],
            "text/plain": [
              "      Facies Formation  Well Name   Depth  ...   PHIND     PE  NM_M  RELPOS\n",
              "0          3     A1 SH  SHRIMPLIN  2793.0  ...  11.915  4.600     1   1.000\n",
              "1          3     A1 SH  SHRIMPLIN  2793.5  ...  12.565  4.100     1   0.979\n",
              "2          3     A1 SH  SHRIMPLIN  2794.0  ...  13.050  3.600     1   0.957\n",
              "3          3     A1 SH  SHRIMPLIN  2794.5  ...  13.115  3.500     1   0.936\n",
              "4          3     A1 SH  SHRIMPLIN  2795.0  ...  13.300  3.400     1   0.915\n",
              "...      ...       ...        ...     ...  ...     ...    ...   ...     ...\n",
              "4974       0      C SH   CRAWFORD  3158.5  ...  16.150  3.161     1   0.639\n",
              "4975       0      C SH   CRAWFORD  3159.0  ...  16.750  3.118     1   0.611\n",
              "4976       0      C SH   CRAWFORD  3159.5  ...  16.780  3.168     1   0.583\n",
              "4977       0      C SH   CRAWFORD  3160.0  ...  16.995  3.154     1   0.556\n",
              "4978       0      C SH   CRAWFORD  3160.5  ...  17.595  3.125     1   0.528\n",
              "\n",
              "[4062 rows x 11 columns]"
            ]
          },
          "metadata": {
            "tags": []
          },
          "execution_count": 199
        }
      ]
    },
    {
      "cell_type": "code",
      "metadata": {
        "id": "ys9F0GqJK4nL",
        "colab_type": "code",
        "colab": {}
      },
      "source": [
        "def prepare_feature_vectors(data, features, window_width):\n",
        "\n",
        "    raw_feature_vectors = data[features]\n",
        "    well_labels = data['Well Name']\n",
        "    num_features = np.shape(raw_feature_vectors)[1]\n",
        "\n",
        "    output = np.zeros((1, window_width, num_features))\n",
        "    for x in well_labels.unique():\n",
        "        well = raw_feature_vectors[well_labels == x].values\n",
        "        well = np.concatenate((np.repeat(well[0:1], np.floor((window_width-1)/2.0), axis=0), well,\n",
        "                              np.repeat(well[-1:None], np.floor(window_width/2.0), axis=0)), axis=0)\n",
        "\n",
        "        tmp = np.zeros((np.size(well, axis=0) - window_width + 1, window_width, num_features))\n",
        "        for i in np.arange(np.size(well, axis=0) - window_width + 1):\n",
        "            tmp[i] = np.reshape(well[i: i + window_width], (window_width, num_features))\n",
        "\n",
        "        output = np.append(output, tmp, axis=0)\n",
        "\n",
        "    return output[1:]"
      ],
      "execution_count": 200,
      "outputs": []
    },
    {
      "cell_type": "markdown",
      "metadata": {
        "id": "DVdDQWeUC4nD",
        "colab_type": "text"
      },
      "source": [
        "Remove the P.E values of Stuart and Crawford Wells\n"
      ]
    },
    {
      "cell_type": "code",
      "metadata": {
        "id": "egHEYx6tAPEq",
        "colab_type": "code",
        "colab": {}
      },
      "source": [
        "def file_copy(file):\n",
        "  data = file.copy()\n",
        "  data = data[data['Well Name'] != 'STUART']\n",
        "  data = data[data['Well Name'] != 'CRAWFORD']\n",
        "  return data"
      ],
      "execution_count": 206,
      "outputs": []
    },
    {
      "cell_type": "markdown",
      "metadata": {
        "id": "F4KOKyMaJUOC",
        "colab_type": "text"
      },
      "source": [
        "Split Data into Training and Testing"
      ]
    },
    {
      "cell_type": "code",
      "metadata": {
        "id": "IuOdisI5KkoU",
        "colab_type": "code",
        "colab": {
          "base_uri": "https://localhost:8080/",
          "height": 33
        },
        "outputId": "2db2e38f-4316-44c8-96d9-b4c0e6c5d79e"
      },
      "source": [
        "data['PE'].isnull().sum()"
      ],
      "execution_count": 209,
      "outputs": [
        {
          "output_type": "execute_result",
          "data": {
            "text/plain": [
              "917"
            ]
          },
          "metadata": {
            "tags": []
          },
          "execution_count": 209
        }
      ]
    },
    {
      "cell_type": "code",
      "metadata": {
        "id": "XMSdPmyMMAuW",
        "colab_type": "code",
        "colab": {
          "base_uri": "https://localhost:8080/",
          "height": 33
        },
        "outputId": "733ded66-38ca-46b0-ed70-fef7b3542ac5"
      },
      "source": [
        "window_width = 15 #Window around the central value\n",
        "data = file_copy(file)\n",
        "feature_list = ['GR', 'ILD_log10', 'DeltaPHI', 'PHIND', 'NM_M', 'RELPOS']\n",
        "X_train = prepare_feature_vectors(data[data['PE'].notnull()], feature_list, window_width)\n",
        "num_train_samples = np.asarray(np.shape(X_train))[0]\n",
        "\n",
        "X_test = prepare_feature_vectors(data[data['PE'].isnull()], feature_list, window_width)\n",
        "num_test_samples = np.asarray(np.shape(X_test))[0]\n",
        "\n",
        "print('Training Samples=', num_train_samples, '   Test Samples=', num_test_samples)"
      ],
      "execution_count": 208,
      "outputs": [
        {
          "output_type": "stream",
          "text": [
            "Training Samples= 3232    Test Samples= 917\n"
          ],
          "name": "stdout"
        }
      ]
    },
    {
      "cell_type": "markdown",
      "metadata": {
        "id": "iA81XYK2JmeI",
        "colab_type": "text"
      },
      "source": [
        "Neural Network to Predict the Missing PE Values"
      ]
    },
    {
      "cell_type": "code",
      "metadata": {
        "id": "JCH5nbFf1hYV",
        "colab_type": "code",
        "colab": {
          "base_uri": "https://localhost:8080/",
          "height": 570
        },
        "outputId": "8654f81f-e9d2-4c47-9d2e-1f34e32fed80"
      },
      "source": [
        "# define neural network to perform regression on PE\n",
        "num_filters = 12\n",
        "dropout_prob = 0.6666\n",
        "\n",
        "cnn = Sequential()\n",
        "cnn.add(Convolution1D(num_filters, 1, border_mode='valid', input_shape=(window_width, len(feature_list))))\n",
        "cnn.add(normalization.BatchNormalization())\n",
        "cnn.add(Activation('tanh'))\n",
        "cnn.add(Convolution1D(num_filters, 3, border_mode='valid'))\n",
        "cnn.add(normalization.BatchNormalization())\n",
        "cnn.add(Activation('tanh'))\n",
        "cnn.add(Dropout(dropout_prob / 2))\n",
        "\n",
        "cnn.add(Flatten())\n",
        "cnn.add(Dense(4*num_filters))\n",
        "cnn.add(normalization.BatchNormalization())\n",
        "cnn.add(Activation('tanh'))\n",
        "cnn.add(Dropout(dropout_prob))\n",
        "\n",
        "cnn.add(Dense(1))\n",
        "cnn.compile(loss='mse', optimizer='rmsprop', metrics=['acc'])\n",
        "cnn.summary()\n",
        "\n",
        "# save initial weights, which are random\n",
        "initial_weights = cnn.get_weights()"
      ],
      "execution_count": 177,
      "outputs": [
        {
          "output_type": "stream",
          "text": [
            "Model: \"sequential_15\"\n",
            "_________________________________________________________________\n",
            "Layer (type)                 Output Shape              Param #   \n",
            "=================================================================\n",
            "conv1d_7 (Conv1D)            (None, 15, 12)            84        \n",
            "_________________________________________________________________\n",
            "batch_normalization_10 (Batc (None, 15, 12)            48        \n",
            "_________________________________________________________________\n",
            "activation_10 (Activation)   (None, 15, 12)            0         \n",
            "_________________________________________________________________\n",
            "conv1d_8 (Conv1D)            (None, 13, 12)            444       \n",
            "_________________________________________________________________\n",
            "batch_normalization_11 (Batc (None, 13, 12)            48        \n",
            "_________________________________________________________________\n",
            "activation_11 (Activation)   (None, 13, 12)            0         \n",
            "_________________________________________________________________\n",
            "dropout_47 (Dropout)         (None, 13, 12)            0         \n",
            "_________________________________________________________________\n",
            "flatten_14 (Flatten)         (None, 156)               0         \n",
            "_________________________________________________________________\n",
            "dense_39 (Dense)             (None, 48)                7536      \n",
            "_________________________________________________________________\n",
            "batch_normalization_12 (Batc (None, 48)                192       \n",
            "_________________________________________________________________\n",
            "activation_12 (Activation)   (None, 48)                0         \n",
            "_________________________________________________________________\n",
            "dropout_48 (Dropout)         (None, 48)                0         \n",
            "_________________________________________________________________\n",
            "dense_40 (Dense)             (None, 1)                 49        \n",
            "=================================================================\n",
            "Total params: 8,401\n",
            "Trainable params: 8,257\n",
            "Non-trainable params: 144\n",
            "_________________________________________________________________\n"
          ],
          "name": "stdout"
        }
      ]
    },
    {
      "cell_type": "code",
      "metadata": {
        "id": "DlcUZW2P352m",
        "colab_type": "code",
        "colab": {}
      },
      "source": [
        "Y_train = data[data['PE'].notnull()]['PE'].values"
      ],
      "execution_count": 178,
      "outputs": []
    },
    {
      "cell_type": "code",
      "metadata": {
        "id": "cDfU570b2r6O",
        "colab_type": "code",
        "colab": {}
      },
      "source": [
        "# define training parameters and prepare arrays to store training metrics\n",
        "epochs_per_fold = 1000\n",
        "num_fold = 5\n",
        "roll_stride = np.ceil(num_train_samples/num_fold).astype(int)\n",
        "\n",
        "cnn_hist = History()\n",
        "hist = np.zeros((4, num_fold, epochs_per_fold))\n",
        "f1scores = np.zeros(num_fold)\n",
        "Y_test = np.zeros((num_test_samples, num_fold))\n",
        "\n",
        "\n",
        "# shuffle input data\n",
        "rand_perm = np.random.permutation(num_train_samples)\n",
        "X_train = X_train[rand_perm]\n",
        "Y_train = Y_train[rand_perm]"
      ],
      "execution_count": 180,
      "outputs": []
    },
    {
      "cell_type": "code",
      "metadata": {
        "id": "WX90RRHp3HQp",
        "colab_type": "code",
        "colab": {
          "base_uri": "https://localhost:8080/",
          "height": 98
        },
        "outputId": "624c6799-2e0d-4e40-b122-4f03747c5bf8"
      },
      "source": [
        "# use 5-fold cross validation and train 5 neural networks, ending up with 5 sets of predictions\n",
        "for i in np.arange(num_fold):\n",
        "    cnn.set_weights(initial_weights)\n",
        "    X_train = np.roll(X_train, i*roll_stride, axis=0)\n",
        "    Y_train = np.roll(Y_train, i*roll_stride, axis=0)\n",
        "\n",
        "    cnn.fit(X_train, Y_train, batch_size=150, nb_epoch=epochs_per_fold, verbose=0,\n",
        "                validation_split=1.0/num_fold, callbacks=[cnn_hist])\n",
        "\n",
        "    # make predictions, i.e. impute PE\n",
        "    Y_test[:, i] = cnn.predict(X_test)[:, 0]\n",
        "\n",
        "    hist[:, i, :] = [cnn_hist.history['acc'], cnn_hist.history['val_acc'],\n",
        "                     cnn_hist.history['loss'], cnn_hist.history['val_loss']]\n",
        "    print(\"Accuracy  =\", np.mean(hist[1, i, -100:]))"
      ],
      "execution_count": 181,
      "outputs": [
        {
          "output_type": "stream",
          "text": [
            "Accuracy  = 0.05089644446969032\n",
            "Accuracy  = 0.031715610884130004\n",
            "Accuracy  = 0.04182380210608244\n",
            "Accuracy  = 0.0322720249556005\n",
            "Accuracy  = 0.05210200857371092\n"
          ],
          "name": "stdout"
        }
      ]
    },
    {
      "cell_type": "code",
      "metadata": {
        "id": "ATv7kEhQ9j8F",
        "colab_type": "code",
        "colab": {}
      },
      "source": [
        "import matplotlib.pyplot as plt"
      ],
      "execution_count": 182,
      "outputs": []
    },
    {
      "cell_type": "code",
      "metadata": {
        "id": "SSGbwRGg4Lc5",
        "colab_type": "code",
        "colab": {
          "base_uri": "https://localhost:8080/",
          "height": 297
        },
        "outputId": "29ce27a1-69ce-49bf-e13a-6dce38da3394"
      },
      "source": [
        "# plot callbacks to evaluate quality of training\n",
        "drop_values = 100\n",
        "drop_hist = np.reshape(hist[:, :, drop_values:], (4, num_fold * (epochs_per_fold - drop_values)))\n",
        "print(\"Mean Validation Accuracy  =\", np.mean(hist[1, :, -drop_values:]))\n",
        "\n",
        "plt.plot(drop_hist[0]); plt.plot(drop_hist[1])\n",
        "plt.legend(['train', 'val'], loc='lower left')"
      ],
      "execution_count": 183,
      "outputs": [
        {
          "output_type": "stream",
          "text": [
            "Mean Validation Accuracy  = 0.04176197819784284\n"
          ],
          "name": "stdout"
        },
        {
          "output_type": "execute_result",
          "data": {
            "text/plain": [
              "<matplotlib.legend.Legend at 0x7f8e515d25f8>"
            ]
          },
          "metadata": {
            "tags": []
          },
          "execution_count": 183
        },
        {
          "output_type": "display_data",
          "data": {
            "image/png": "[encoded data removed]",
            "text/plain": [
              "<Figure size 432x288 with 1 Axes>"
            ]
          },
          "metadata": {
            "tags": [],
            "needs_background": "light"
          }
        }
      ]
    },
    {
      "cell_type": "code",
      "metadata": {
        "id": "vBTou7CG4a7Z",
        "colab_type": "code",
        "colab": {
          "base_uri": "https://localhost:8080/",
          "height": 281
        },
        "outputId": "a524730a-da4f-4f09-8ab3-cc7fd0ec6e8c"
      },
      "source": [
        "plt.plot(drop_hist[2]); plt.plot(drop_hist[3])\n",
        "plt.legend(['train', 'val'], loc='upper left')"
      ],
      "execution_count": 184,
      "outputs": [
        {
          "output_type": "execute_result",
          "data": {
            "text/plain": [
              "<matplotlib.legend.Legend at 0x7f8e514f2780>"
            ]
          },
          "metadata": {
            "tags": []
          },
          "execution_count": 184
        },
        {
          "output_type": "display_data",
          "data": {
            "image/png": "[encoded data removed]",
            "text/plain": [
              "<Figure size 432x288 with 1 Axes>"
            ]
          },
          "metadata": {
            "tags": [],
            "needs_background": "light"
          }
        }
      ]
    },
    {
      "cell_type": "code",
      "metadata": {
        "id": "ArOMJw1Y4jmo",
        "colab_type": "code",
        "colab": {}
      },
      "source": [
        "# Update dataframe with imputed values by averaging results of 5 neural networks \n",
        "data['PE'][np.array(data['PE'].isnull())] = np.mean(Y_test, axis=1)\n",
        "\n",
        "# Write intermediate data to file\n",
        "data.to_csv('/content/gdrive/My Drive/Data/train_test_data_PEfilled.csv', index=False)"
      ],
      "execution_count": 210,
      "outputs": []
    },
    {
      "cell_type": "code",
      "metadata": {
        "id": "DGGfOCDy63W5",
        "colab_type": "code",
        "colab": {
          "base_uri": "https://localhost:8080/",
          "height": 281
        },
        "outputId": "16d6bc89-e340-4109-a6e3-ba09b9a12055"
      },
      "source": [
        "# Plot PE of all wells (original plus imputed) \n",
        "plt.plot(data['PE'])"
      ],
      "execution_count": 211,
      "outputs": [
        {
          "output_type": "execute_result",
          "data": {
            "text/plain": [
              "[<matplotlib.lines.Line2D at 0x7f8e51446ba8>]"
            ]
          },
          "metadata": {
            "tags": []
          },
          "execution_count": 211
        },
        {
          "output_type": "display_data",
          "data": {
            "image/png": "[encoded data removed]",
            "text/plain": [
              "<Figure size 432x288 with 1 Axes>"
            ]
          },
          "metadata": {
            "tags": [],
            "needs_background": "light"
          }
        }
      ]
    },
    {
      "cell_type": "code",
      "metadata": {
        "id": "7nre-InYMFoE",
        "colab_type": "code",
        "colab": {
          "base_uri": "https://localhost:8080/",
          "height": 33
        },
        "outputId": "92b8b38a-dbd3-4190-d4e0-b098e8f09ec0"
      },
      "source": [
        "data['PE'].isnull().sum() #No missing PE Values "
      ],
      "execution_count": 212,
      "outputs": [
        {
          "output_type": "execute_result",
          "data": {
            "text/plain": [
              "0"
            ]
          },
          "metadata": {
            "tags": []
          },
          "execution_count": 212
        }
      ]
    },
    {
      "cell_type": "markdown",
      "metadata": {
        "id": "XVnqHgRv7Emg",
        "colab_type": "text"
      },
      "source": [
        "# Facies Prediction\n"
      ]
    },
    {
      "cell_type": "code",
      "metadata": {
        "id": "kygPXXF9PKti",
        "colab_type": "code",
        "colab": {
          "base_uri": "https://localhost:8080/",
          "height": 33
        },
        "outputId": "53a793f0-fd1a-41bd-c0b0-062a40e522a7"
      },
      "source": [
        "file_2 = file.copy()\n",
        "names = file['Well Name'].unique()\n",
        "for name in names:\n",
        "  if name not in ['STUART','CRAWFORD']:\n",
        "    file_2 = file_2[file_2['Well Name'] != name]\n",
        "file_2.shape"
      ],
      "execution_count": 228,
      "outputs": [
        {
          "output_type": "execute_result",
          "data": {
            "text/plain": [
              "(830, 11)"
            ]
          },
          "metadata": {
            "tags": []
          },
          "execution_count": 228
        }
      ]
    },
    {
      "cell_type": "code",
      "metadata": {
        "id": "XJ0olAiI7EGG",
        "colab_type": "code",
        "colab": {
          "base_uri": "https://localhost:8080/",
          "height": 207
        },
        "outputId": "a41ccfdf-d2ad-4c61-a0f8-7572bb83c2f7"
      },
      "source": [
        "file_ii = pd.read_csv('/content/gdrive/My Drive/Data/train_test_data_PEfilled.csv')\n",
        "training_data = pd.concat([file_ii, file_2], axis = 0)\n",
        "print(training_data.shape)\n",
        "training_data.head()"
      ],
      "execution_count": 230,
      "outputs": [
        {
          "output_type": "stream",
          "text": [
            "(4979, 11)\n"
          ],
          "name": "stdout"
        },
        {
          "output_type": "execute_result",
          "data": {
            "text/html": [
              "<div>\n",
              "<style scoped>\n",
              "    .dataframe tbody tr th:only-of-type {\n",
              "        vertical-align: middle;\n",
              "    }\n",
              "\n",
              "    .dataframe tbody tr th {\n",
              "        vertical-align: top;\n",
              "    }\n",
              "\n",
              "    .dataframe thead th {\n",
              "        text-align: right;\n",
              "    }\n",
              "</style>\n",
              "<table border=\"1\" class=\"dataframe\">\n",
              "  <thead>\n",
              "    <tr style=\"text-align: right;\">\n",
              "      <th></th>\n",
              "      <th>Facies</th>\n",
              "      <th>Formation</th>\n",
              "      <th>Well Name</th>\n",
              "      <th>Depth</th>\n",
              "      <th>GR</th>\n",
              "      <th>ILD_log10</th>\n",
              "      <th>DeltaPHI</th>\n",
              "      <th>PHIND</th>\n",
              "      <th>PE</th>\n",
              "      <th>NM_M</th>\n",
              "      <th>RELPOS</th>\n",
              "    </tr>\n",
              "  </thead>\n",
              "  <tbody>\n",
              "    <tr>\n",
              "      <th>0</th>\n",
              "      <td>3</td>\n",
              "      <td>A1 SH</td>\n",
              "      <td>SHRIMPLIN</td>\n",
              "      <td>2793.0</td>\n",
              "      <td>77.45</td>\n",
              "      <td>0.664</td>\n",
              "      <td>9.9</td>\n",
              "      <td>11.915</td>\n",
              "      <td>4.6</td>\n",
              "      <td>1</td>\n",
              "      <td>1.000</td>\n",
              "    </tr>\n",
              "    <tr>\n",
              "      <th>1</th>\n",
              "      <td>3</td>\n",
              "      <td>A1 SH</td>\n",
              "      <td>SHRIMPLIN</td>\n",
              "      <td>2793.5</td>\n",
              "      <td>78.26</td>\n",
              "      <td>0.661</td>\n",
              "      <td>14.2</td>\n",
              "      <td>12.565</td>\n",
              "      <td>4.1</td>\n",
              "      <td>1</td>\n",
              "      <td>0.979</td>\n",
              "    </tr>\n",
              "    <tr>\n",
              "      <th>2</th>\n",
              "      <td>3</td>\n",
              "      <td>A1 SH</td>\n",
              "      <td>SHRIMPLIN</td>\n",
              "      <td>2794.0</td>\n",
              "      <td>79.05</td>\n",
              "      <td>0.658</td>\n",
              "      <td>14.8</td>\n",
              "      <td>13.050</td>\n",
              "      <td>3.6</td>\n",
              "      <td>1</td>\n",
              "      <td>0.957</td>\n",
              "    </tr>\n",
              "    <tr>\n",
              "      <th>3</th>\n",
              "      <td>3</td>\n",
              "      <td>A1 SH</td>\n",
              "      <td>SHRIMPLIN</td>\n",
              "      <td>2794.5</td>\n",
              "      <td>86.10</td>\n",
              "      <td>0.655</td>\n",
              "      <td>13.9</td>\n",
              "      <td>13.115</td>\n",
              "      <td>3.5</td>\n",
              "      <td>1</td>\n",
              "      <td>0.936</td>\n",
              "    </tr>\n",
              "    <tr>\n",
              "      <th>4</th>\n",
              "      <td>3</td>\n",
              "      <td>A1 SH</td>\n",
              "      <td>SHRIMPLIN</td>\n",
              "      <td>2795.0</td>\n",
              "      <td>74.58</td>\n",
              "      <td>0.647</td>\n",
              "      <td>13.5</td>\n",
              "      <td>13.300</td>\n",
              "      <td>3.4</td>\n",
              "      <td>1</td>\n",
              "      <td>0.915</td>\n",
              "    </tr>\n",
              "  </tbody>\n",
              "</table>\n",
              "</div>"
            ],
            "text/plain": [
              "   Facies Formation  Well Name   Depth  ...   PHIND   PE  NM_M  RELPOS\n",
              "0       3     A1 SH  SHRIMPLIN  2793.0  ...  11.915  4.6     1   1.000\n",
              "1       3     A1 SH  SHRIMPLIN  2793.5  ...  12.565  4.1     1   0.979\n",
              "2       3     A1 SH  SHRIMPLIN  2794.0  ...  13.050  3.6     1   0.957\n",
              "3       3     A1 SH  SHRIMPLIN  2794.5  ...  13.115  3.5     1   0.936\n",
              "4       3     A1 SH  SHRIMPLIN  2795.0  ...  13.300  3.4     1   0.915\n",
              "\n",
              "[5 rows x 11 columns]"
            ]
          },
          "metadata": {
            "tags": []
          },
          "execution_count": 230
        }
      ]
    },
    {
      "cell_type": "markdown",
      "metadata": {
        "id": "sXt0dEpIonjG",
        "colab_type": "text"
      },
      "source": [
        "## Data Wrangling\n",
        "\n"
      ]
    },
    {
      "cell_type": "code",
      "metadata": {
        "id": "Mz1VLKg1oHy3",
        "colab_type": "code",
        "colab": {}
      },
      "source": [
        "set_option(\"display.max_rows\", 10)\n",
        "pd.options.mode.chained_assignment = None\n",
        "\n",
        "training_data['Well Name'] = training_data['Well Name'].astype('category')\n",
        "training_data['Formation'] = training_data['Formation'].astype('category')\n",
        "training_data['Well Name'].unique()\n",
        "\n",
        "# 1=sandstone  2=c_siltstone   3=f_siltstone \n",
        "# 4=marine_silt_shale 5=mudstone 6=wackestone 7=dolomite\n",
        "# 8=packstone 9=bafflestone\n",
        "\n",
        "facies_colors = ['#F4D03F', '#F5B041','#DC7633','#6E2C00',\n",
        "       '#1B4F72','#2E86C1', '#AED6F1', '#A569BD', '#196F3D']\n",
        "\n",
        "facies_labels = ['SS', 'CSiS', 'FSiS', 'SiSh', 'MS','WS', 'D','PS', 'BS']\n",
        "#facies_color_map is a dictionary that maps facies labels\n",
        "#to their respective colors\n",
        "facies_color_map = {}\n",
        "for ind, label in enumerate(facies_labels):\n",
        "    facies_color_map[label] = facies_colors[ind]\n",
        "  #mapping facies labels to the dataframe\n",
        "training_data.loc[:,'FaciesLabels'] = training_data.apply(lambda row: label_facies(row, facies_labels), axis=1)\n",
        "\n",
        "correct_facies_labels = training_data['Facies'].values\n",
        "feature_vectors = training_data.drop(['Formation', 'FaciesLabels', 'Facies','Well Name'], axis=1) #, 'RELPOS', 'NM_M', 'Depth', 'ILD_log10',  'DeltaPHI',   'PHIND'], axis=1)\n",
        "\n",
        "well_labels = training_data[['Well Name', 'Facies']].values\n",
        "well_name = training_data['Well Name'].values\n",
        "depth = training_data['Depth'].values\n"
      ],
      "execution_count": 231,
      "outputs": []
    },
    {
      "cell_type": "code",
      "metadata": {
        "id": "evBkBJDlUmEf",
        "colab_type": "code",
        "colab": {
          "base_uri": "https://localhost:8080/",
          "height": 133
        },
        "outputId": "7edb9a7e-f077-436e-c5f7-3069bdb036fc"
      },
      "source": [
        "training_data[:3]"
      ],
      "execution_count": 232,
      "outputs": [
        {
          "output_type": "execute_result",
          "data": {
            "text/html": [
              "<div>\n",
              "<style scoped>\n",
              "    .dataframe tbody tr th:only-of-type {\n",
              "        vertical-align: middle;\n",
              "    }\n",
              "\n",
              "    .dataframe tbody tr th {\n",
              "        vertical-align: top;\n",
              "    }\n",
              "\n",
              "    .dataframe thead th {\n",
              "        text-align: right;\n",
              "    }\n",
              "</style>\n",
              "<table border=\"1\" class=\"dataframe\">\n",
              "  <thead>\n",
              "    <tr style=\"text-align: right;\">\n",
              "      <th></th>\n",
              "      <th>Facies</th>\n",
              "      <th>Formation</th>\n",
              "      <th>Well Name</th>\n",
              "      <th>Depth</th>\n",
              "      <th>GR</th>\n",
              "      <th>ILD_log10</th>\n",
              "      <th>DeltaPHI</th>\n",
              "      <th>PHIND</th>\n",
              "      <th>PE</th>\n",
              "      <th>NM_M</th>\n",
              "      <th>RELPOS</th>\n",
              "      <th>FaciesLabels</th>\n",
              "    </tr>\n",
              "  </thead>\n",
              "  <tbody>\n",
              "    <tr>\n",
              "      <th>0</th>\n",
              "      <td>3</td>\n",
              "      <td>A1 SH</td>\n",
              "      <td>SHRIMPLIN</td>\n",
              "      <td>2793.0</td>\n",
              "      <td>77.45</td>\n",
              "      <td>0.664</td>\n",
              "      <td>9.9</td>\n",
              "      <td>11.915</td>\n",
              "      <td>4.6</td>\n",
              "      <td>1</td>\n",
              "      <td>1.000</td>\n",
              "      <td>FSiS</td>\n",
              "    </tr>\n",
              "    <tr>\n",
              "      <th>1</th>\n",
              "      <td>3</td>\n",
              "      <td>A1 SH</td>\n",
              "      <td>SHRIMPLIN</td>\n",
              "      <td>2793.5</td>\n",
              "      <td>78.26</td>\n",
              "      <td>0.661</td>\n",
              "      <td>14.2</td>\n",
              "      <td>12.565</td>\n",
              "      <td>4.1</td>\n",
              "      <td>1</td>\n",
              "      <td>0.979</td>\n",
              "      <td>FSiS</td>\n",
              "    </tr>\n",
              "    <tr>\n",
              "      <th>2</th>\n",
              "      <td>3</td>\n",
              "      <td>A1 SH</td>\n",
              "      <td>SHRIMPLIN</td>\n",
              "      <td>2794.0</td>\n",
              "      <td>79.05</td>\n",
              "      <td>0.658</td>\n",
              "      <td>14.8</td>\n",
              "      <td>13.050</td>\n",
              "      <td>3.6</td>\n",
              "      <td>1</td>\n",
              "      <td>0.957</td>\n",
              "      <td>FSiS</td>\n",
              "    </tr>\n",
              "  </tbody>\n",
              "</table>\n",
              "</div>"
            ],
            "text/plain": [
              "   Facies Formation  Well Name   Depth  ...   PE  NM_M  RELPOS  FaciesLabels\n",
              "0       3     A1 SH  SHRIMPLIN  2793.0  ...  4.6     1   1.000          FSiS\n",
              "1       3     A1 SH  SHRIMPLIN  2793.5  ...  4.1     1   0.979          FSiS\n",
              "2       3     A1 SH  SHRIMPLIN  2794.0  ...  3.6     1   0.957          FSiS\n",
              "\n",
              "[3 rows x 12 columns]"
            ]
          },
          "metadata": {
            "tags": []
          },
          "execution_count": 232
        }
      ]
    },
    {
      "cell_type": "code",
      "metadata": {
        "id": "klWWxFlHo8Yj",
        "colab_type": "code",
        "colab": {}
      },
      "source": [
        "\n",
        "scaler = preprocessing.StandardScaler().fit(feature_vectors)\n",
        "scaled_features = scaler.transform(feature_vectors)\n",
        "\n",
        "data_out = np.hstack([well_labels, scaled_features])"
      ],
      "execution_count": 233,
      "outputs": []
    },
    {
      "cell_type": "markdown",
      "metadata": {
        "id": "PmXfuDrVpcD1",
        "colab_type": "text"
      },
      "source": [
        "# Data Transform\n"
      ]
    },
    {
      "cell_type": "code",
      "metadata": {
        "id": "xvIQHHE_pWyK",
        "colab_type": "code",
        "colab": {
          "base_uri": "https://localhost:8080/",
          "height": 66
        },
        "outputId": "924d7c7c-9472-4e13-ff38-03675c02d2b8"
      },
      "source": [
        "data = data_out\n",
        "well_data = {}\n",
        "well_names = list(set(data[:, 0])) #set of well names\n",
        "for name in well_names:\n",
        "    well_data[name] = [[], []] #creates a dictionary containing list of list for the well names\n",
        "    \n",
        "for row in data:\n",
        "    well_data[row[0]][1].append(row[1]) #Append facies to the second list[]\n",
        "    well_data[row[0]][0].append(list(row[2::])) #Append features to the first list[]\n",
        "\n",
        "#For data padding\n",
        "positive_lag = 10\n",
        "negative_lag = 11\n",
        "\n",
        "chunks_cnn = []\n",
        "chunks_cnn_test = []\n",
        "chunk_length = positive_lag+negative_lag+1 #were gonna predict middle facies\n",
        "chunks_facies_cnn = []\n",
        "\n",
        "for name in well_names:\n",
        "    if name not in ['STUART', 'CRAWFORD']:  #Training set augumentation\n",
        "        test_well_data = well_data[name]    #Returns a list of list\n",
        "        log_values = np.array(test_well_data[0]) #values\n",
        "        log_values_padded = np.lib.pad(log_values, (negative_lag,positive_lag), 'edge')[:, negative_lag:-positive_lag] #Pad values(11,10) and \n",
        "                                                                                        #returns index from 11:-10\n",
        "        facies_values =  np.array(test_well_data[1])\n",
        "        for i in range(log_values.shape[0]):\n",
        "            chunk = log_values_padded[i:i+chunk_length, :]\n",
        "            chunk_trans = chunk.T\n",
        "            chunks_cnn.append(chunk_trans)\n",
        "            chunks_facies_cnn.append(facies_values[i])\n",
        "    else:\n",
        "        test_well_data = well_data[name]\n",
        "        log_values = np.array(test_well_data[0])\n",
        "        log_values_padded = np.lib.pad(log_values, (negative_lag,positive_lag), 'edge')[:, negative_lag:-positive_lag]\n",
        "        facies_values =  np.array(test_well_data[1])\n",
        "        for i in range(log_values.shape[0]):\n",
        "            chunk = log_values_padded[i:i+chunk_length, :]\n",
        "            chunk_trans = chunk.T\n",
        "            chunks_cnn_test.append(chunk_trans)\n",
        "\n",
        "chunks_cnn = np.array(chunks_cnn)\n",
        "chunks_cnn_test = np.array(chunks_cnn_test)\n",
        "\n",
        "chunks_facies_cnn = np.array(chunks_facies_cnn, dtype=np.int32)-1\n",
        "\n",
        "unique_facies = len(set(chunks_facies_cnn))\n",
        "print (unique_facies, set(chunks_facies_cnn))\n",
        "print (chunks_cnn.shape, chunks_cnn_test.shape)\n",
        "print (chunks_facies_cnn.shape, chunks_cnn_test.shape)"
      ],
      "execution_count": 234,
      "outputs": [
        {
          "output_type": "stream",
          "text": [
            "9 {0, 1, 2, 3, 4, 5, 6, 7, 8}\n",
            "(4149, 8, 22) (830, 8, 22)\n",
            "(4149,) (830, 8, 22)\n"
          ],
          "name": "stdout"
        }
      ]
    },
    {
      "cell_type": "code",
      "metadata": {
        "id": "vqv7TtOKvGKO",
        "colab_type": "code",
        "colab": {}
      },
      "source": [
        "X = chunks_cnn #Save data to X and Y for training\n",
        "y = chunks_facies_cnn\n",
        "\n",
        "X = X.reshape((chunks_cnn.shape[0], chunks_cnn.shape[1], chunks_cnn.shape[2], 1))\n",
        "\n",
        "y = np_utils.to_categorical(y)"
      ],
      "execution_count": 235,
      "outputs": []
    },
    {
      "cell_type": "code",
      "metadata": {
        "id": "u_f4mnJlvKvz",
        "colab_type": "code",
        "colab": {}
      },
      "source": [
        "N = 128\n",
        "cnnet = Sequential()\n",
        "cnnet.add(Convolution2D(N, 1, 5, border_mode=\"same\",activation=\"relu\",input_shape=(chunks_cnn.shape[1], chunks_cnn.shape[2], 1)))\n",
        "cnnet.add(MaxPooling2D(pool_size=(1, 2)))\n",
        "cnnet.add(Dropout(0.25))\n",
        "cnnet.add(Convolution2D(N, 1, 3, border_mode=\"same\",activation=\"relu\",input_shape=(chunks_cnn.shape[1], chunks_cnn.shape[2], 1)))\n",
        "cnnet.add(MaxPooling2D(pool_size=(1, 2)))\n",
        "#cnn.add(Dropout(0.5))\n",
        "cnnet.add(Convolution2D(N, 2, 2, border_mode=\"same\", activation=\"relu\"))\n",
        "#cnn.add(Convolution2D(N, 3, 1, border_mode=\"same\", activation=\"relu\"))\n",
        "cnnet.add(MaxPooling2D(pool_size=(2, 2)))\n",
        "cnnet.add(Dropout(0.8))\n",
        "cnnet.add(Flatten())\n",
        "cnnet.add(Dense(128, activation=\"relu\"))\n",
        "cnnet.add(Dropout(0.5))\n",
        "cnnet.add(Dense(64, activation=\"relu\"))\n",
        "cnnet.add(Dropout(0.5))\n",
        "cnnet.add(Dense(9, activation=\"softmax\"))\n",
        "cnnet.compile(loss=\"categorical_crossentropy\", optimizer=\"Adamax\", metrics=['acc'])"
      ],
      "execution_count": 236,
      "outputs": []
    },
    {
      "cell_type": "code",
      "metadata": {
        "id": "9mXS6IFpHsw3",
        "colab_type": "code",
        "colab": {
          "base_uri": "https://localhost:8080/",
          "height": 602
        },
        "outputId": "3f7cfabf-fcf9-4d86-df8d-3f4ea656bc92"
      },
      "source": [
        "cnnet.summary()\n",
        "intial_weights_ii = cnnet.get_weights()"
      ],
      "execution_count": 237,
      "outputs": [
        {
          "output_type": "stream",
          "text": [
            "Model: \"sequential_16\"\n",
            "_________________________________________________________________\n",
            "Layer (type)                 Output Shape              Param #   \n",
            "=================================================================\n",
            "conv2d_31 (Conv2D)           (None, 8, 22, 128)        768       \n",
            "_________________________________________________________________\n",
            "max_pooling2d_31 (MaxPooling (None, 8, 11, 128)        0         \n",
            "_________________________________________________________________\n",
            "dropout_49 (Dropout)         (None, 8, 11, 128)        0         \n",
            "_________________________________________________________________\n",
            "conv2d_32 (Conv2D)           (None, 8, 11, 128)        49280     \n",
            "_________________________________________________________________\n",
            "max_pooling2d_32 (MaxPooling (None, 8, 5, 128)         0         \n",
            "_________________________________________________________________\n",
            "conv2d_33 (Conv2D)           (None, 8, 5, 128)         65664     \n",
            "_________________________________________________________________\n",
            "max_pooling2d_33 (MaxPooling (None, 4, 2, 128)         0         \n",
            "_________________________________________________________________\n",
            "dropout_50 (Dropout)         (None, 4, 2, 128)         0         \n",
            "_________________________________________________________________\n",
            "flatten_15 (Flatten)         (None, 1024)              0         \n",
            "_________________________________________________________________\n",
            "dense_41 (Dense)             (None, 128)               131200    \n",
            "_________________________________________________________________\n",
            "dropout_51 (Dropout)         (None, 128)               0         \n",
            "_________________________________________________________________\n",
            "dense_42 (Dense)             (None, 64)                8256      \n",
            "_________________________________________________________________\n",
            "dropout_52 (Dropout)         (None, 64)                0         \n",
            "_________________________________________________________________\n",
            "dense_43 (Dense)             (None, 9)                 585       \n",
            "=================================================================\n",
            "Total params: 255,753\n",
            "Trainable params: 255,753\n",
            "Non-trainable params: 0\n",
            "_________________________________________________________________\n"
          ],
          "name": "stdout"
        }
      ]
    },
    {
      "cell_type": "code",
      "metadata": {
        "id": "E_gP144rvN4-",
        "colab_type": "code",
        "colab": {
          "base_uri": "https://localhost:8080/",
          "height": 1000
        },
        "outputId": "763dafa5-625d-452a-9430-0d2d94e63587"
      },
      "source": [
        "cnnet_hist = History()\n",
        "epoch_fold = 200\n",
        "hist = np.zeros((4, 1, epoch_fold))\n",
        "start = time.time()\n",
        "cnnet.fit(X, y, nb_epoch=epoch_fold, validation_split=0.25, batch_size=64, verbose=1, shuffle=True, callbacks=[cnnet_hist])\n",
        "hist[:,0,:] = [cnnet_hist.history['acc'], cnnet_hist.history['val_acc'], cnnet_hist.history['loss'], cnnet_hist.history['val_loss']]\n",
        "print(f'Time to train Network {time.time() - start}')"
      ],
      "execution_count": 239,
      "outputs": [
        {
          "output_type": "stream",
          "text": [
            "3111/3111 [==============================] - 4s 1ms/step - loss: 0.4786 - acc: 0.8187 - val_loss: 1.7275 - val_acc: 0.4961\n",
            "Epoch 6/500\n",
            "3111/3111 [==============================] - 4s 1ms/step - loss: 0.4723 - acc: 0.8267 - val_loss: 1.6959 - val_acc: 0.5058\n",
            "Epoch 7/500\n",
            "3111/3111 [==============================] - 4s 1ms/step - loss: 0.4915 - acc: 0.8187 - val_loss: 1.6783 - val_acc: 0.4913\n",
            "Epoch 8/500\n",
            "3111/3111 [==============================] - 4s 1ms/step - loss: 0.4533 - acc: 0.8296 - val_loss: 1.7583 - val_acc: 0.4961\n",
            "Epoch 9/500\n",
            "3111/3111 [==============================] - 5s 2ms/step - loss: 0.4797 - acc: 0.8235 - val_loss: 1.6595 - val_acc: 0.4817\n",
            "Epoch 10/500\n",
            "3111/3111 [==============================] - 8s 3ms/step - loss: 0.4731 - acc: 0.8274 - val_loss: 1.6468 - val_acc: 0.5000\n",
            "Epoch 11/500\n",
            "3111/3111 [==============================] - 5s 2ms/step - loss: 0.4784 - acc: 0.8290 - val_loss: 1.6173 - val_acc: 0.5039\n",
            "Epoch 12/500\n",
            "3111/3111 [==============================] - 4s 1ms/step - loss: 0.4648 - acc: 0.8284 - val_loss: 1.7937 - val_acc: 0.4933\n",
            "Epoch 13/500\n",
            "3111/3111 [==============================] - 4s 1ms/step - loss: 0.4776 - acc: 0.8219 - val_loss: 1.6301 - val_acc: 0.5116\n",
            "Epoch 14/500\n",
            "3111/3111 [==============================] - 4s 1ms/step - loss: 0.4589 - acc: 0.8332 - val_loss: 1.6607 - val_acc: 0.5096\n",
            "Epoch 15/500\n",
            "3111/3111 [==============================] - 4s 1ms/step - loss: 0.4547 - acc: 0.8316 - val_loss: 1.7114 - val_acc: 0.5067\n",
            "Epoch 16/500\n",
            "3111/3111 [==============================] - 4s 1ms/step - loss: 0.4772 - acc: 0.8255 - val_loss: 1.6189 - val_acc: 0.5135\n",
            "Epoch 17/500\n",
            "3111/3111 [==============================] - 4s 1ms/step - loss: 0.4569 - acc: 0.8335 - val_loss: 1.6474 - val_acc: 0.5164\n",
            "Epoch 18/500\n",
            "3111/3111 [==============================] - 4s 1ms/step - loss: 0.4397 - acc: 0.8412 - val_loss: 1.6607 - val_acc: 0.4990\n",
            "Epoch 19/500\n",
            "3111/3111 [==============================] - 5s 1ms/step - loss: 0.4527 - acc: 0.8309 - val_loss: 1.7279 - val_acc: 0.5183\n",
            "Epoch 20/500\n",
            "3111/3111 [==============================] - 4s 1ms/step - loss: 0.4559 - acc: 0.8296 - val_loss: 1.7364 - val_acc: 0.5183\n",
            "Epoch 21/500\n",
            "3111/3111 [==============================] - 4s 1ms/step - loss: 0.4519 - acc: 0.8261 - val_loss: 1.7217 - val_acc: 0.5125\n",
            "Epoch 22/500\n",
            "3111/3111 [==============================] - 4s 1ms/step - loss: 0.4714 - acc: 0.8255 - val_loss: 1.7727 - val_acc: 0.5135\n",
            "Epoch 23/500\n",
            "3111/3111 [==============================] - 4s 1ms/step - loss: 0.4523 - acc: 0.8322 - val_loss: 1.6550 - val_acc: 0.5212\n",
            "Epoch 24/500\n",
            "3111/3111 [==============================] - 4s 1ms/step - loss: 0.4614 - acc: 0.8296 - val_loss: 1.7613 - val_acc: 0.5087\n",
            "Epoch 25/500\n",
            "3111/3111 [==============================] - 4s 1ms/step - loss: 0.4666 - acc: 0.8309 - val_loss: 1.7033 - val_acc: 0.5058\n",
            "Epoch 26/500\n",
            "3111/3111 [==============================] - 4s 1ms/step - loss: 0.4495 - acc: 0.8284 - val_loss: 1.7041 - val_acc: 0.5154\n",
            "Epoch 27/500\n",
            "3111/3111 [==============================] - 4s 1ms/step - loss: 0.4479 - acc: 0.8338 - val_loss: 1.6649 - val_acc: 0.5154\n",
            "Epoch 28/500\n",
            "3111/3111 [==============================] - 4s 1ms/step - loss: 0.4710 - acc: 0.8345 - val_loss: 1.6917 - val_acc: 0.5096\n",
            "Epoch 29/500\n",
            "3111/3111 [==============================] - 5s 1ms/step - loss: 0.4589 - acc: 0.8280 - val_loss: 1.7560 - val_acc: 0.4981\n",
            "Epoch 30/500\n",
            "3111/3111 [==============================] - 4s 1ms/step - loss: 0.4385 - acc: 0.8351 - val_loss: 1.7290 - val_acc: 0.5183\n",
            "Epoch 31/500\n",
            "3111/3111 [==============================] - 4s 1ms/step - loss: 0.4587 - acc: 0.8306 - val_loss: 1.6933 - val_acc: 0.5010\n",
            "Epoch 32/500\n",
            "3111/3111 [==============================] - 4s 1ms/step - loss: 0.4427 - acc: 0.8409 - val_loss: 1.7412 - val_acc: 0.5096\n",
            "Epoch 33/500\n",
            "3111/3111 [==============================] - 4s 1ms/step - loss: 0.4537 - acc: 0.8367 - val_loss: 1.7583 - val_acc: 0.4942\n",
            "Epoch 34/500\n",
            "3111/3111 [==============================] - 4s 1ms/step - loss: 0.4466 - acc: 0.8399 - val_loss: 1.7991 - val_acc: 0.4933\n",
            "Epoch 35/500\n",
            "3111/3111 [==============================] - 5s 1ms/step - loss: 0.4293 - acc: 0.8467 - val_loss: 1.6867 - val_acc: 0.4981\n",
            "Epoch 36/500\n",
            "3111/3111 [==============================] - 5s 1ms/step - loss: 0.4577 - acc: 0.8361 - val_loss: 1.6361 - val_acc: 0.5058\n",
            "Epoch 37/500\n",
            "3111/3111 [==============================] - 4s 1ms/step - loss: 0.4565 - acc: 0.8335 - val_loss: 1.7380 - val_acc: 0.5048\n",
            "Epoch 38/500\n",
            "3111/3111 [==============================] - 4s 1ms/step - loss: 0.4556 - acc: 0.8367 - val_loss: 1.6317 - val_acc: 0.5164\n",
            "Epoch 39/500\n",
            "3111/3111 [==============================] - 4s 1ms/step - loss: 0.4536 - acc: 0.8264 - val_loss: 1.7707 - val_acc: 0.5183\n",
            "Epoch 40/500\n",
            "3111/3111 [==============================] - 4s 1ms/step - loss: 0.4424 - acc: 0.8300 - val_loss: 1.6743 - val_acc: 0.5135\n",
            "Epoch 41/500\n",
            "3111/3111 [==============================] - 4s 1ms/step - loss: 0.4412 - acc: 0.8367 - val_loss: 1.7180 - val_acc: 0.5106\n",
            "Epoch 42/500\n",
            "3111/3111 [==============================] - 4s 1ms/step - loss: 0.4440 - acc: 0.8415 - val_loss: 1.7927 - val_acc: 0.5096\n",
            "Epoch 43/500\n",
            "3111/3111 [==============================] - 4s 1ms/step - loss: 0.4223 - acc: 0.8435 - val_loss: 1.7312 - val_acc: 0.4952\n",
            "Epoch 44/500\n",
            "3111/3111 [==============================] - 4s 1ms/step - loss: 0.4285 - acc: 0.8451 - val_loss: 1.8671 - val_acc: 0.5077\n",
            "Epoch 45/500\n",
            "3111/3111 [==============================] - 4s 1ms/step - loss: 0.4334 - acc: 0.8460 - val_loss: 1.7339 - val_acc: 0.4990\n",
            "Epoch 46/500\n",
            "3111/3111 [==============================] - 4s 1ms/step - loss: 0.4362 - acc: 0.8364 - val_loss: 1.6940 - val_acc: 0.4942\n",
            "Epoch 47/500\n",
            "3111/3111 [==============================] - 4s 1ms/step - loss: 0.4399 - acc: 0.8441 - val_loss: 1.6962 - val_acc: 0.5000\n",
            "Epoch 48/500\n",
            "3111/3111 [==============================] - 4s 1ms/step - loss: 0.4282 - acc: 0.8428 - val_loss: 1.7442 - val_acc: 0.5058\n",
            "Epoch 49/500\n",
            "3111/3111 [==============================] - 5s 1ms/step - loss: 0.4423 - acc: 0.8341 - val_loss: 1.6920 - val_acc: 0.4971\n",
            "Epoch 50/500\n",
            "3111/3111 [==============================] - 5s 1ms/step - loss: 0.4421 - acc: 0.8351 - val_loss: 1.7987 - val_acc: 0.5048\n",
            "Epoch 51/500\n",
            "3111/3111 [==============================] - 4s 1ms/step - loss: 0.4197 - acc: 0.8441 - val_loss: 1.8055 - val_acc: 0.5193\n",
            "Epoch 52/500\n",
            "3111/3111 [==============================] - 4s 1ms/step - loss: 0.4312 - acc: 0.8454 - val_loss: 1.7974 - val_acc: 0.5193\n",
            "Epoch 53/500\n",
            "3111/3111 [==============================] - 4s 1ms/step - loss: 0.4262 - acc: 0.8457 - val_loss: 1.8058 - val_acc: 0.5029\n",
            "Epoch 54/500\n",
            "3111/3111 [==============================] - 4s 1ms/step - loss: 0.4280 - acc: 0.8425 - val_loss: 1.7499 - val_acc: 0.5154\n",
            "Epoch 55/500\n",
            "3111/3111 [==============================] - 4s 1ms/step - loss: 0.4256 - acc: 0.8370 - val_loss: 1.7620 - val_acc: 0.5019\n",
            "Epoch 56/500\n",
            "3111/3111 [==============================] - 4s 1ms/step - loss: 0.4330 - acc: 0.8435 - val_loss: 1.7725 - val_acc: 0.5145\n",
            "Epoch 57/500\n",
            "3111/3111 [==============================] - 4s 1ms/step - loss: 0.4119 - acc: 0.8505 - val_loss: 1.7849 - val_acc: 0.5125\n",
            "Epoch 58/500\n",
            "3111/3111 [==============================] - 4s 1ms/step - loss: 0.4367 - acc: 0.8422 - val_loss: 1.7674 - val_acc: 0.5154\n",
            "Epoch 59/500\n",
            "3111/3111 [==============================] - 4s 1ms/step - loss: 0.4321 - acc: 0.8464 - val_loss: 1.7075 - val_acc: 0.5212\n",
            "Epoch 60/500\n",
            "3111/3111 [==============================] - 4s 1ms/step - loss: 0.4149 - acc: 0.8550 - val_loss: 1.7659 - val_acc: 0.5260\n",
            "Epoch 61/500\n",
            "3111/3111 [==============================] - 4s 1ms/step - loss: 0.4245 - acc: 0.8476 - val_loss: 1.7361 - val_acc: 0.5145\n",
            "Epoch 62/500\n",
            "3111/3111 [==============================] - 4s 1ms/step - loss: 0.4200 - acc: 0.8422 - val_loss: 1.7543 - val_acc: 0.5183\n",
            "Epoch 63/500\n",
            "3111/3111 [==============================] - 4s 1ms/step - loss: 0.4187 - acc: 0.8444 - val_loss: 1.8295 - val_acc: 0.5019\n",
            "Epoch 64/500\n",
            "3111/3111 [==============================] - 4s 1ms/step - loss: 0.4073 - acc: 0.8428 - val_loss: 1.7439 - val_acc: 0.5096\n",
            "Epoch 65/500\n",
            "3111/3111 [==============================] - 4s 1ms/step - loss: 0.4051 - acc: 0.8537 - val_loss: 1.8925 - val_acc: 0.4952\n",
            "Epoch 66/500\n",
            "3111/3111 [==============================] - 4s 1ms/step - loss: 0.4337 - acc: 0.8419 - val_loss: 1.7331 - val_acc: 0.5145\n",
            "Epoch 67/500\n",
            "3111/3111 [==============================] - 4s 1ms/step - loss: 0.4280 - acc: 0.8483 - val_loss: 1.7302 - val_acc: 0.5164\n",
            "Epoch 68/500\n",
            "3111/3111 [==============================] - 4s 1ms/step - loss: 0.4187 - acc: 0.8451 - val_loss: 1.7625 - val_acc: 0.5029\n",
            "Epoch 69/500\n",
            "3111/3111 [==============================] - 4s 1ms/step - loss: 0.4240 - acc: 0.8447 - val_loss: 1.8196 - val_acc: 0.5154\n",
            "Epoch 70/500\n",
            "3111/3111 [==============================] - 4s 1ms/step - loss: 0.4295 - acc: 0.8512 - val_loss: 1.8178 - val_acc: 0.5019\n",
            "Epoch 71/500\n",
            "3111/3111 [==============================] - 4s 1ms/step - loss: 0.3977 - acc: 0.8586 - val_loss: 1.8558 - val_acc: 0.5173\n",
            "Epoch 72/500\n",
            "3111/3111 [==============================] - 4s 1ms/step - loss: 0.4237 - acc: 0.8476 - val_loss: 1.8802 - val_acc: 0.4942\n",
            "Epoch 73/500\n",
            "3111/3111 [==============================] - 4s 1ms/step - loss: 0.4470 - acc: 0.8374 - val_loss: 1.7490 - val_acc: 0.5058\n",
            "Epoch 74/500\n",
            "3111/3111 [==============================] - 4s 1ms/step - loss: 0.4281 - acc: 0.8521 - val_loss: 1.8985 - val_acc: 0.4904\n",
            "Epoch 75/500\n",
            "3111/3111 [==============================] - 4s 1ms/step - loss: 0.4125 - acc: 0.8441 - val_loss: 1.7070 - val_acc: 0.5010\n",
            "Epoch 76/500\n",
            "3111/3111 [==============================] - 4s 1ms/step - loss: 0.4094 - acc: 0.8505 - val_loss: 1.7875 - val_acc: 0.5077\n",
            "Epoch 77/500\n",
            "3111/3111 [==============================] - 4s 1ms/step - loss: 0.4143 - acc: 0.8534 - val_loss: 1.7937 - val_acc: 0.5010\n",
            "Epoch 78/500\n",
            "3111/3111 [==============================] - 4s 1ms/step - loss: 0.4067 - acc: 0.8528 - val_loss: 1.7562 - val_acc: 0.5154\n",
            "Epoch 79/500\n",
            "3111/3111 [==============================] - 4s 1ms/step - loss: 0.4070 - acc: 0.8502 - val_loss: 1.7635 - val_acc: 0.5183\n",
            "Epoch 80/500\n",
            "3111/3111 [==============================] - 4s 1ms/step - loss: 0.4064 - acc: 0.8521 - val_loss: 1.7921 - val_acc: 0.5067\n",
            "Epoch 81/500\n",
            "3111/3111 [==============================] - 4s 1ms/step - loss: 0.4058 - acc: 0.8451 - val_loss: 1.8394 - val_acc: 0.5231\n",
            "Epoch 82/500\n",
            "3111/3111 [==============================] - 4s 1ms/step - loss: 0.3924 - acc: 0.8489 - val_loss: 1.7664 - val_acc: 0.5173\n",
            "Epoch 83/500\n",
            "3111/3111 [==============================] - 4s 1ms/step - loss: 0.4025 - acc: 0.8576 - val_loss: 1.8142 - val_acc: 0.5202\n",
            "Epoch 84/500\n",
            "3111/3111 [==============================] - 4s 1ms/step - loss: 0.4059 - acc: 0.8563 - val_loss: 1.7735 - val_acc: 0.5145\n",
            "Epoch 85/500\n",
            "3111/3111 [==============================] - 4s 1ms/step - loss: 0.3990 - acc: 0.8531 - val_loss: 1.7948 - val_acc: 0.5202\n",
            "Epoch 86/500\n",
            "3111/3111 [==============================] - 4s 1ms/step - loss: 0.4083 - acc: 0.8541 - val_loss: 1.8980 - val_acc: 0.5048\n",
            "Epoch 87/500\n",
            "3111/3111 [==============================] - 4s 1ms/step - loss: 0.4071 - acc: 0.8428 - val_loss: 1.8035 - val_acc: 0.5328\n",
            "Epoch 88/500\n",
            "3111/3111 [==============================] - 4s 1ms/step - loss: 0.3947 - acc: 0.8515 - val_loss: 1.8261 - val_acc: 0.5202\n",
            "Epoch 89/500\n",
            "3111/3111 [==============================] - 4s 1ms/step - loss: 0.3621 - acc: 0.8647 - val_loss: 1.7729 - val_acc: 0.5116\n",
            "Epoch 90/500\n",
            "3111/3111 [==============================] - 4s 1ms/step - loss: 0.3898 - acc: 0.8560 - val_loss: 1.8056 - val_acc: 0.5019\n",
            "Epoch 91/500\n",
            "3111/3111 [==============================] - 4s 1ms/step - loss: 0.3962 - acc: 0.8547 - val_loss: 1.7622 - val_acc: 0.5202\n",
            "Epoch 92/500\n",
            "3111/3111 [==============================] - 4s 1ms/step - loss: 0.3967 - acc: 0.8544 - val_loss: 1.7578 - val_acc: 0.5154\n",
            "Epoch 93/500\n",
            "3111/3111 [==============================] - 4s 1ms/step - loss: 0.3948 - acc: 0.8592 - val_loss: 1.8836 - val_acc: 0.5010\n",
            "Epoch 94/500\n",
            "3111/3111 [==============================] - 4s 1ms/step - loss: 0.4165 - acc: 0.8492 - val_loss: 1.7839 - val_acc: 0.5145\n",
            "Epoch 95/500\n",
            "3111/3111 [==============================] - 4s 1ms/step - loss: 0.4147 - acc: 0.8441 - val_loss: 1.7618 - val_acc: 0.5328\n",
            "Epoch 96/500\n",
            "3111/3111 [==============================] - 4s 1ms/step - loss: 0.4063 - acc: 0.8566 - val_loss: 1.8237 - val_acc: 0.5087\n",
            "Epoch 97/500\n",
            "3111/3111 [==============================] - 4s 1ms/step - loss: 0.4043 - acc: 0.8576 - val_loss: 1.8561 - val_acc: 0.4981\n",
            "Epoch 98/500\n",
            "3111/3111 [==============================] - 4s 1ms/step - loss: 0.3860 - acc: 0.8579 - val_loss: 1.8118 - val_acc: 0.5154\n",
            "Epoch 99/500\n",
            "3111/3111 [==============================] - 4s 1ms/step - loss: 0.3994 - acc: 0.8570 - val_loss: 1.8606 - val_acc: 0.5029\n",
            "Epoch 100/500\n",
            "3111/3111 [==============================] - 4s 1ms/step - loss: 0.3954 - acc: 0.8592 - val_loss: 1.8613 - val_acc: 0.5106\n",
            "Epoch 101/500\n",
            "3111/3111 [==============================] - 4s 1ms/step - loss: 0.4120 - acc: 0.8515 - val_loss: 1.7826 - val_acc: 0.5019\n",
            "Epoch 102/500\n",
            "3111/3111 [==============================] - 4s 1ms/step - loss: 0.3937 - acc: 0.8599 - val_loss: 1.8006 - val_acc: 0.4933\n",
            "Epoch 103/500\n",
            "3111/3111 [==============================] - 4s 1ms/step - loss: 0.3792 - acc: 0.8663 - val_loss: 1.7924 - val_acc: 0.5145\n",
            "Epoch 104/500\n",
            "3111/3111 [==============================] - 4s 1ms/step - loss: 0.3938 - acc: 0.8544 - val_loss: 1.7891 - val_acc: 0.5106\n",
            "Epoch 105/500\n",
            "3111/3111 [==============================] - 5s 1ms/step - loss: 0.3941 - acc: 0.8640 - val_loss: 1.8384 - val_acc: 0.5125\n",
            "Epoch 106/500\n",
            "3111/3111 [==============================] - 5s 1ms/step - loss: 0.3790 - acc: 0.8586 - val_loss: 1.8555 - val_acc: 0.5125\n",
            "Epoch 107/500\n",
            "3111/3111 [==============================] - 4s 1ms/step - loss: 0.3854 - acc: 0.8579 - val_loss: 1.9200 - val_acc: 0.5010\n",
            "Epoch 108/500\n",
            "3111/3111 [==============================] - 4s 1ms/step - loss: 0.3716 - acc: 0.8647 - val_loss: 1.9091 - val_acc: 0.5096\n",
            "Epoch 109/500\n",
            "3111/3111 [==============================] - 4s 1ms/step - loss: 0.3781 - acc: 0.8599 - val_loss: 1.8300 - val_acc: 0.5231\n",
            "Epoch 110/500\n",
            "3111/3111 [==============================] - 4s 1ms/step - loss: 0.4114 - acc: 0.8512 - val_loss: 1.9092 - val_acc: 0.5058\n",
            "Epoch 111/500\n",
            "3111/3111 [==============================] - 4s 1ms/step - loss: 0.3811 - acc: 0.8640 - val_loss: 1.8317 - val_acc: 0.5116\n",
            "Epoch 112/500\n",
            "3111/3111 [==============================] - 4s 1ms/step - loss: 0.4195 - acc: 0.8435 - val_loss: 1.8152 - val_acc: 0.5116\n",
            "Epoch 113/500\n",
            "3111/3111 [==============================] - 4s 1ms/step - loss: 0.3720 - acc: 0.8640 - val_loss: 1.8774 - val_acc: 0.4913\n",
            "Epoch 114/500\n",
            "3111/3111 [==============================] - 4s 1ms/step - loss: 0.3904 - acc: 0.8557 - val_loss: 1.8086 - val_acc: 0.5048\n",
            "Epoch 115/500\n",
            "3111/3111 [==============================] - 4s 1ms/step - loss: 0.3954 - acc: 0.8492 - val_loss: 1.8927 - val_acc: 0.5087\n",
            "Epoch 116/500\n",
            "3111/3111 [==============================] - 4s 1ms/step - loss: 0.3688 - acc: 0.8631 - val_loss: 1.7387 - val_acc: 0.5106\n",
            "Epoch 117/500\n",
            "3111/3111 [==============================] - 4s 1ms/step - loss: 0.3840 - acc: 0.8560 - val_loss: 1.8665 - val_acc: 0.5154\n",
            "Epoch 118/500\n",
            "3111/3111 [==============================] - 5s 1ms/step - loss: 0.3904 - acc: 0.8531 - val_loss: 1.9087 - val_acc: 0.5067\n",
            "Epoch 119/500\n",
            "3111/3111 [==============================] - 5s 1ms/step - loss: 0.3742 - acc: 0.8692 - val_loss: 1.9120 - val_acc: 0.4942\n",
            "Epoch 120/500\n",
            "3111/3111 [==============================] - 4s 1ms/step - loss: 0.3601 - acc: 0.8740 - val_loss: 1.9344 - val_acc: 0.4952\n",
            "Epoch 121/500\n",
            "3111/3111 [==============================] - 5s 1ms/step - loss: 0.3925 - acc: 0.8560 - val_loss: 1.8119 - val_acc: 0.4990\n",
            "Epoch 122/500\n",
            "3111/3111 [==============================] - 4s 1ms/step - loss: 0.3878 - acc: 0.8573 - val_loss: 1.8274 - val_acc: 0.4990\n",
            "Epoch 123/500\n",
            "3111/3111 [==============================] - 4s 1ms/step - loss: 0.3968 - acc: 0.8566 - val_loss: 1.8693 - val_acc: 0.5039\n",
            "Epoch 124/500\n",
            "3111/3111 [==============================] - 4s 1ms/step - loss: 0.3871 - acc: 0.8647 - val_loss: 1.8187 - val_acc: 0.5154\n",
            "Epoch 125/500\n",
            "3111/3111 [==============================] - 4s 1ms/step - loss: 0.3755 - acc: 0.8599 - val_loss: 1.8987 - val_acc: 0.5154\n",
            "Epoch 126/500\n",
            "3111/3111 [==============================] - 4s 1ms/step - loss: 0.3714 - acc: 0.8676 - val_loss: 1.9425 - val_acc: 0.4913\n",
            "Epoch 127/500\n",
            "3111/3111 [==============================] - 4s 1ms/step - loss: 0.3901 - acc: 0.8595 - val_loss: 1.8731 - val_acc: 0.5096\n",
            "Epoch 128/500\n",
            "3111/3111 [==============================] - 4s 1ms/step - loss: 0.3730 - acc: 0.8669 - val_loss: 1.9685 - val_acc: 0.4913\n",
            "Epoch 129/500\n",
            "3111/3111 [==============================] - 4s 1ms/step - loss: 0.3573 - acc: 0.8734 - val_loss: 1.8159 - val_acc: 0.5077\n",
            "Epoch 130/500\n",
            "3111/3111 [==============================] - 4s 1ms/step - loss: 0.3842 - acc: 0.8537 - val_loss: 1.8841 - val_acc: 0.5193\n",
            "Epoch 131/500\n",
            "3111/3111 [==============================] - 4s 1ms/step - loss: 0.3642 - acc: 0.8679 - val_loss: 1.9421 - val_acc: 0.5212\n",
            "Epoch 132/500\n",
            "3111/3111 [==============================] - 4s 1ms/step - loss: 0.4080 - acc: 0.8528 - val_loss: 1.8771 - val_acc: 0.5164\n",
            "Epoch 133/500\n",
            "3111/3111 [==============================] - 4s 1ms/step - loss: 0.3892 - acc: 0.8627 - val_loss: 1.8680 - val_acc: 0.4981\n",
            "Epoch 134/500\n",
            "3111/3111 [==============================] - 4s 1ms/step - loss: 0.3899 - acc: 0.8573 - val_loss: 1.8697 - val_acc: 0.5058\n",
            "Epoch 135/500\n",
            "3111/3111 [==============================] - 4s 1ms/step - loss: 0.3657 - acc: 0.8705 - val_loss: 1.8491 - val_acc: 0.5337\n",
            "Epoch 136/500\n",
            "3111/3111 [==============================] - 4s 1ms/step - loss: 0.3548 - acc: 0.8672 - val_loss: 1.9148 - val_acc: 0.5212\n",
            "Epoch 137/500\n",
            "3111/3111 [==============================] - 4s 1ms/step - loss: 0.3836 - acc: 0.8579 - val_loss: 1.8944 - val_acc: 0.5231\n",
            "Epoch 138/500\n",
            "3111/3111 [==============================] - 4s 1ms/step - loss: 0.3738 - acc: 0.8660 - val_loss: 1.8657 - val_acc: 0.5366\n",
            "Epoch 139/500\n",
            "3111/3111 [==============================] - 5s 1ms/step - loss: 0.3524 - acc: 0.8644 - val_loss: 2.0015 - val_acc: 0.5173\n",
            "Epoch 140/500\n",
            "3111/3111 [==============================] - 5s 1ms/step - loss: 0.3570 - acc: 0.8734 - val_loss: 1.8742 - val_acc: 0.5145\n",
            "Epoch 141/500\n",
            "3111/3111 [==============================] - 4s 1ms/step - loss: 0.3694 - acc: 0.8666 - val_loss: 1.9064 - val_acc: 0.5087\n",
            "Epoch 142/500\n",
            "3111/3111 [==============================] - 5s 1ms/step - loss: 0.3677 - acc: 0.8660 - val_loss: 1.8014 - val_acc: 0.5173\n",
            "Epoch 143/500\n",
            "3111/3111 [==============================] - 4s 1ms/step - loss: 0.3653 - acc: 0.8698 - val_loss: 1.9108 - val_acc: 0.5173\n",
            "Epoch 144/500\n",
            "3111/3111 [==============================] - 4s 1ms/step - loss: 0.3567 - acc: 0.8615 - val_loss: 1.8665 - val_acc: 0.5077\n",
            "Epoch 145/500\n",
            "3111/3111 [==============================] - 4s 1ms/step - loss: 0.3648 - acc: 0.8663 - val_loss: 1.8803 - val_acc: 0.5135\n",
            "Epoch 146/500\n",
            "3111/3111 [==============================] - 5s 1ms/step - loss: 0.3645 - acc: 0.8631 - val_loss: 1.9528 - val_acc: 0.5231\n",
            "Epoch 147/500\n",
            "3111/3111 [==============================] - 4s 1ms/step - loss: 0.3794 - acc: 0.8621 - val_loss: 1.8982 - val_acc: 0.5048\n",
            "Epoch 148/500\n",
            "3111/3111 [==============================] - 4s 1ms/step - loss: 0.3607 - acc: 0.8615 - val_loss: 1.8214 - val_acc: 0.5077\n",
            "Epoch 149/500\n",
            "3111/3111 [==============================] - 5s 1ms/step - loss: 0.3652 - acc: 0.8663 - val_loss: 1.8430 - val_acc: 0.4961\n",
            "Epoch 150/500\n",
            "3111/3111 [==============================] - 4s 1ms/step - loss: 0.3823 - acc: 0.8579 - val_loss: 1.8738 - val_acc: 0.5048\n",
            "Epoch 151/500\n",
            "3111/3111 [==============================] - 4s 1ms/step - loss: 0.3513 - acc: 0.8705 - val_loss: 1.9344 - val_acc: 0.5193\n",
            "Epoch 152/500\n",
            "3111/3111 [==============================] - 4s 1ms/step - loss: 0.3490 - acc: 0.8660 - val_loss: 1.9125 - val_acc: 0.5077\n",
            "Epoch 153/500\n",
            "3111/3111 [==============================] - 5s 1ms/step - loss: 0.3606 - acc: 0.8705 - val_loss: 1.8249 - val_acc: 0.5125\n",
            "Epoch 154/500\n",
            "3111/3111 [==============================] - 4s 1ms/step - loss: 0.3675 - acc: 0.8708 - val_loss: 1.8794 - val_acc: 0.5222\n",
            "Epoch 155/500\n",
            "3111/3111 [==============================] - 4s 1ms/step - loss: 0.3559 - acc: 0.8653 - val_loss: 1.9322 - val_acc: 0.5154\n",
            "Epoch 156/500\n",
            "3111/3111 [==============================] - 4s 1ms/step - loss: 0.3805 - acc: 0.8615 - val_loss: 1.9513 - val_acc: 0.5039\n",
            "Epoch 157/500\n",
            "3111/3111 [==============================] - 4s 1ms/step - loss: 0.3606 - acc: 0.8708 - val_loss: 1.9857 - val_acc: 0.5029\n",
            "Epoch 158/500\n",
            "3111/3111 [==============================] - 5s 1ms/step - loss: 0.3595 - acc: 0.8740 - val_loss: 1.9416 - val_acc: 0.5087\n",
            "Epoch 159/500\n",
            "3111/3111 [==============================] - 4s 1ms/step - loss: 0.3729 - acc: 0.8602 - val_loss: 1.8985 - val_acc: 0.4933\n",
            "Epoch 160/500\n",
            "3111/3111 [==============================] - 4s 1ms/step - loss: 0.3616 - acc: 0.8746 - val_loss: 1.9736 - val_acc: 0.5145\n",
            "Epoch 161/500\n",
            "3111/3111 [==============================] - 4s 1ms/step - loss: 0.3519 - acc: 0.8701 - val_loss: 1.8871 - val_acc: 0.5202\n",
            "Epoch 162/500\n",
            "3111/3111 [==============================] - 4s 1ms/step - loss: 0.3666 - acc: 0.8714 - val_loss: 1.9010 - val_acc: 0.5202\n",
            "Epoch 163/500\n",
            "3111/3111 [==============================] - 5s 1ms/step - loss: 0.3506 - acc: 0.8730 - val_loss: 1.9531 - val_acc: 0.5048\n",
            "Epoch 164/500\n",
            "3111/3111 [==============================] - 4s 1ms/step - loss: 0.3715 - acc: 0.8647 - val_loss: 1.9084 - val_acc: 0.5173\n",
            "Epoch 165/500\n",
            "3111/3111 [==============================] - 4s 1ms/step - loss: 0.3591 - acc: 0.8711 - val_loss: 1.9716 - val_acc: 0.5077\n",
            "Epoch 166/500\n",
            "3111/3111 [==============================] - 4s 1ms/step - loss: 0.3549 - acc: 0.8695 - val_loss: 1.8981 - val_acc: 0.5077\n",
            "Epoch 167/500\n",
            "3111/3111 [==============================] - 4s 1ms/step - loss: 0.3632 - acc: 0.8663 - val_loss: 1.9378 - val_acc: 0.5106\n",
            "Epoch 168/500\n",
            "3111/3111 [==============================] - 4s 1ms/step - loss: 0.3570 - acc: 0.8705 - val_loss: 2.0088 - val_acc: 0.5154\n",
            "Epoch 169/500\n",
            "3111/3111 [==============================] - 4s 1ms/step - loss: 0.3403 - acc: 0.8801 - val_loss: 2.0537 - val_acc: 0.4971\n",
            "Epoch 170/500\n",
            "3111/3111 [==============================] - 4s 1ms/step - loss: 0.3493 - acc: 0.8795 - val_loss: 1.9531 - val_acc: 0.5039\n",
            "Epoch 171/500\n",
            "3111/3111 [==============================] - 4s 1ms/step - loss: 0.3492 - acc: 0.8717 - val_loss: 1.9333 - val_acc: 0.5135\n",
            "Epoch 172/500\n",
            "3111/3111 [==============================] - 4s 1ms/step - loss: 0.3384 - acc: 0.8772 - val_loss: 1.8522 - val_acc: 0.5279\n",
            "Epoch 173/500\n",
            "3111/3111 [==============================] - 4s 1ms/step - loss: 0.3745 - acc: 0.8608 - val_loss: 1.8836 - val_acc: 0.5202\n",
            "Epoch 174/500\n",
            "3111/3111 [==============================] - 5s 1ms/step - loss: 0.3257 - acc: 0.8788 - val_loss: 1.9081 - val_acc: 0.5039\n",
            "Epoch 175/500\n",
            "3111/3111 [==============================] - 5s 1ms/step - loss: 0.3438 - acc: 0.8795 - val_loss: 1.9444 - val_acc: 0.5048\n",
            "Epoch 176/500\n",
            "3111/3111 [==============================] - 5s 1ms/step - loss: 0.3523 - acc: 0.8734 - val_loss: 1.9749 - val_acc: 0.5173\n",
            "Epoch 177/500\n",
            "3111/3111 [==============================] - 5s 1ms/step - loss: 0.3535 - acc: 0.8746 - val_loss: 1.9782 - val_acc: 0.5212\n",
            "Epoch 178/500\n",
            "3111/3111 [==============================] - 5s 1ms/step - loss: 0.3667 - acc: 0.8689 - val_loss: 1.9386 - val_acc: 0.5058\n",
            "Epoch 179/500\n",
            "3111/3111 [==============================] - 5s 1ms/step - loss: 0.3310 - acc: 0.8830 - val_loss: 1.8742 - val_acc: 0.5154\n",
            "Epoch 180/500\n",
            "3111/3111 [==============================] - 4s 1ms/step - loss: 0.3398 - acc: 0.8824 - val_loss: 1.8933 - val_acc: 0.5279\n",
            "Epoch 181/500\n",
            "3111/3111 [==============================] - 4s 1ms/step - loss: 0.3455 - acc: 0.8772 - val_loss: 1.9324 - val_acc: 0.5145\n",
            "Epoch 182/500\n",
            "3111/3111 [==============================] - 4s 1ms/step - loss: 0.3494 - acc: 0.8750 - val_loss: 1.9334 - val_acc: 0.5067\n",
            "Epoch 183/500\n",
            "3111/3111 [==============================] - 4s 1ms/step - loss: 0.3591 - acc: 0.8695 - val_loss: 1.8868 - val_acc: 0.5241\n",
            "Epoch 184/500\n",
            "3111/3111 [==============================] - 4s 1ms/step - loss: 0.3358 - acc: 0.8756 - val_loss: 1.9893 - val_acc: 0.5077\n",
            "Epoch 185/500\n",
            "3111/3111 [==============================] - 4s 1ms/step - loss: 0.3436 - acc: 0.8769 - val_loss: 2.0030 - val_acc: 0.5048\n",
            "Epoch 186/500\n",
            "3111/3111 [==============================] - 4s 1ms/step - loss: 0.3237 - acc: 0.8798 - val_loss: 1.9490 - val_acc: 0.5164\n",
            "Epoch 187/500\n",
            "3111/3111 [==============================] - 5s 2ms/step - loss: 0.3379 - acc: 0.8807 - val_loss: 1.9622 - val_acc: 0.5125\n",
            "Epoch 188/500\n",
            "3111/3111 [==============================] - 4s 1ms/step - loss: 0.3477 - acc: 0.8798 - val_loss: 1.9418 - val_acc: 0.5096\n",
            "Epoch 189/500\n",
            "3111/3111 [==============================] - 4s 1ms/step - loss: 0.3504 - acc: 0.8743 - val_loss: 1.9765 - val_acc: 0.5164\n",
            "Epoch 190/500\n",
            "3111/3111 [==============================] - 4s 1ms/step - loss: 0.3454 - acc: 0.8737 - val_loss: 1.8622 - val_acc: 0.5250\n",
            "Epoch 191/500\n",
            "3111/3111 [==============================] - 4s 1ms/step - loss: 0.3429 - acc: 0.8779 - val_loss: 1.9402 - val_acc: 0.5077\n",
            "Epoch 192/500\n",
            "3111/3111 [==============================] - 4s 1ms/step - loss: 0.3362 - acc: 0.8824 - val_loss: 1.9057 - val_acc: 0.5193\n",
            "Epoch 193/500\n",
            "3111/3111 [==============================] - 4s 1ms/step - loss: 0.3448 - acc: 0.8820 - val_loss: 1.9819 - val_acc: 0.5231\n",
            "Epoch 194/500\n",
            "3111/3111 [==============================] - 4s 1ms/step - loss: 0.3493 - acc: 0.8721 - val_loss: 1.9864 - val_acc: 0.5222\n",
            "Epoch 195/500\n",
            "3111/3111 [==============================] - 4s 1ms/step - loss: 0.3517 - acc: 0.8801 - val_loss: 1.9141 - val_acc: 0.5164\n",
            "Epoch 196/500\n",
            "3111/3111 [==============================] - 4s 1ms/step - loss: 0.3426 - acc: 0.8785 - val_loss: 2.0205 - val_acc: 0.5212\n",
            "Epoch 197/500\n",
            "3111/3111 [==============================] - 4s 1ms/step - loss: 0.3560 - acc: 0.8660 - val_loss: 2.0106 - val_acc: 0.5019\n",
            "Epoch 198/500\n",
            "3111/3111 [==============================] - 4s 1ms/step - loss: 0.3498 - acc: 0.8679 - val_loss: 1.9825 - val_acc: 0.5087\n",
            "Epoch 199/500\n",
            "3111/3111 [==============================] - 4s 1ms/step - loss: 0.3501 - acc: 0.8701 - val_loss: 1.9578 - val_acc: 0.5125\n",
            "Epoch 200/500\n",
            "3111/3111 [==============================] - 4s 1ms/step - loss: 0.3273 - acc: 0.8788 - val_loss: 2.0434 - val_acc: 0.5077\n",
            "Epoch 201/500\n",
            "3111/3111 [==============================] - 5s 1ms/step - loss: 0.3552 - acc: 0.8740 - val_loss: 1.9544 - val_acc: 0.5241\n",
            "Epoch 202/500\n",
            "3111/3111 [==============================] - 4s 1ms/step - loss: 0.3338 - acc: 0.8827 - val_loss: 2.0157 - val_acc: 0.5077\n",
            "Epoch 203/500\n",
            "3111/3111 [==============================] - 4s 1ms/step - loss: 0.3236 - acc: 0.8878 - val_loss: 1.9726 - val_acc: 0.5164\n",
            "Epoch 204/500\n",
            "3111/3111 [==============================] - 4s 1ms/step - loss: 0.3209 - acc: 0.8772 - val_loss: 2.0164 - val_acc: 0.5019\n",
            "Epoch 205/500\n",
            "3111/3111 [==============================] - 4s 1ms/step - loss: 0.3292 - acc: 0.8791 - val_loss: 2.0774 - val_acc: 0.5241\n",
            "Epoch 206/500\n",
            "3111/3111 [==============================] - 4s 1ms/step - loss: 0.3361 - acc: 0.8737 - val_loss: 1.9599 - val_acc: 0.5193\n",
            "Epoch 207/500\n",
            "3111/3111 [==============================] - 4s 1ms/step - loss: 0.3264 - acc: 0.8846 - val_loss: 2.1015 - val_acc: 0.5029\n",
            "Epoch 208/500\n",
            "3111/3111 [==============================] - 4s 1ms/step - loss: 0.3361 - acc: 0.8766 - val_loss: 1.9601 - val_acc: 0.5193\n",
            "Epoch 209/500\n",
            "3111/3111 [==============================] - 4s 1ms/step - loss: 0.3529 - acc: 0.8750 - val_loss: 1.9519 - val_acc: 0.5135\n",
            "Epoch 210/500\n",
            "3111/3111 [==============================] - 4s 1ms/step - loss: 0.3375 - acc: 0.8740 - val_loss: 1.9610 - val_acc: 0.5366\n",
            "Epoch 211/500\n",
            "3111/3111 [==============================] - 4s 1ms/step - loss: 0.3370 - acc: 0.8801 - val_loss: 1.9813 - val_acc: 0.5222\n",
            "Epoch 212/500\n",
            "3111/3111 [==============================] - 4s 1ms/step - loss: 0.3366 - acc: 0.8708 - val_loss: 1.9577 - val_acc: 0.5202\n",
            "Epoch 213/500\n",
            "3111/3111 [==============================] - 4s 1ms/step - loss: 0.3332 - acc: 0.8791 - val_loss: 1.9682 - val_acc: 0.5279\n",
            "Epoch 214/500\n",
            "3111/3111 [==============================] - 4s 1ms/step - loss: 0.3249 - acc: 0.8824 - val_loss: 1.9387 - val_acc: 0.5260\n",
            "Epoch 215/500\n",
            "3111/3111 [==============================] - 4s 1ms/step - loss: 0.3264 - acc: 0.8769 - val_loss: 2.0656 - val_acc: 0.5077\n",
            "Epoch 216/500\n",
            "3111/3111 [==============================] - 4s 1ms/step - loss: 0.3450 - acc: 0.8775 - val_loss: 1.9044 - val_acc: 0.5270\n",
            "Epoch 217/500\n",
            "3111/3111 [==============================] - 4s 1ms/step - loss: 0.3437 - acc: 0.8753 - val_loss: 1.9685 - val_acc: 0.5202\n",
            "Epoch 218/500\n",
            "3111/3111 [==============================] - 4s 1ms/step - loss: 0.3387 - acc: 0.8833 - val_loss: 2.0015 - val_acc: 0.5145\n",
            "Epoch 219/500\n",
            "3111/3111 [==============================] - 4s 1ms/step - loss: 0.3345 - acc: 0.8827 - val_loss: 1.9928 - val_acc: 0.5154\n",
            "Epoch 220/500\n",
            "3111/3111 [==============================] - 4s 1ms/step - loss: 0.3559 - acc: 0.8714 - val_loss: 2.1096 - val_acc: 0.4990\n",
            "Epoch 221/500\n",
            "3111/3111 [==============================] - 4s 1ms/step - loss: 0.3392 - acc: 0.8833 - val_loss: 2.0132 - val_acc: 0.5087\n",
            "Epoch 222/500\n",
            "3111/3111 [==============================] - 4s 1ms/step - loss: 0.3190 - acc: 0.8852 - val_loss: 1.9482 - val_acc: 0.5212\n",
            "Epoch 223/500\n",
            "3111/3111 [==============================] - 4s 1ms/step - loss: 0.3172 - acc: 0.8885 - val_loss: 2.0083 - val_acc: 0.5202\n",
            "Epoch 224/500\n",
            "3111/3111 [==============================] - 4s 1ms/step - loss: 0.3033 - acc: 0.8917 - val_loss: 2.0054 - val_acc: 0.5154\n",
            "Epoch 225/500\n",
            "3111/3111 [==============================] - 4s 1ms/step - loss: 0.3289 - acc: 0.8862 - val_loss: 1.9904 - val_acc: 0.5318\n",
            "Epoch 226/500\n",
            "3111/3111 [==============================] - 4s 1ms/step - loss: 0.3342 - acc: 0.8766 - val_loss: 1.9429 - val_acc: 0.5135\n",
            "Epoch 227/500\n",
            "3111/3111 [==============================] - 4s 1ms/step - loss: 0.3436 - acc: 0.8775 - val_loss: 1.9593 - val_acc: 0.5289\n",
            "Epoch 228/500\n",
            "3111/3111 [==============================] - 4s 1ms/step - loss: 0.3194 - acc: 0.8827 - val_loss: 2.0639 - val_acc: 0.5125\n",
            "Epoch 229/500\n",
            "3111/3111 [==============================] - 4s 1ms/step - loss: 0.3218 - acc: 0.8865 - val_loss: 2.0195 - val_acc: 0.5183\n",
            "Epoch 230/500\n",
            "3111/3111 [==============================] - 4s 1ms/step - loss: 0.3404 - acc: 0.8852 - val_loss: 1.9215 - val_acc: 0.5096\n",
            "Epoch 231/500\n",
            "3111/3111 [==============================] - 4s 1ms/step - loss: 0.3451 - acc: 0.8737 - val_loss: 2.0021 - val_acc: 0.5077\n",
            "Epoch 232/500\n",
            "3111/3111 [==============================] - 4s 1ms/step - loss: 0.3271 - acc: 0.8872 - val_loss: 1.9568 - val_acc: 0.5222\n",
            "Epoch 233/500\n",
            "3111/3111 [==============================] - 4s 1ms/step - loss: 0.3159 - acc: 0.8814 - val_loss: 1.9562 - val_acc: 0.5077\n",
            "Epoch 234/500\n",
            "3111/3111 [==============================] - 5s 1ms/step - loss: 0.3293 - acc: 0.8840 - val_loss: 2.0104 - val_acc: 0.5116\n",
            "Epoch 235/500\n",
            "3111/3111 [==============================] - 4s 1ms/step - loss: 0.3442 - acc: 0.8798 - val_loss: 1.9100 - val_acc: 0.5250\n",
            "Epoch 236/500\n",
            "3111/3111 [==============================] - 4s 1ms/step - loss: 0.3359 - acc: 0.8779 - val_loss: 1.9501 - val_acc: 0.5241\n",
            "Epoch 237/500\n",
            "3111/3111 [==============================] - 4s 1ms/step - loss: 0.3235 - acc: 0.8862 - val_loss: 1.9288 - val_acc: 0.5270\n",
            "Epoch 238/500\n",
            "3111/3111 [==============================] - 4s 1ms/step - loss: 0.3383 - acc: 0.8827 - val_loss: 2.0388 - val_acc: 0.5077\n",
            "Epoch 239/500\n",
            "3111/3111 [==============================] - 4s 1ms/step - loss: 0.3213 - acc: 0.8891 - val_loss: 2.0611 - val_acc: 0.5096\n",
            "Epoch 240/500\n",
            "3111/3111 [==============================] - 4s 1ms/step - loss: 0.3067 - acc: 0.8930 - val_loss: 2.0167 - val_acc: 0.5058\n",
            "Epoch 241/500\n",
            "3111/3111 [==============================] - 4s 1ms/step - loss: 0.3159 - acc: 0.8849 - val_loss: 1.9468 - val_acc: 0.5096\n",
            "Epoch 242/500\n",
            "3111/3111 [==============================] - 4s 1ms/step - loss: 0.3100 - acc: 0.8891 - val_loss: 1.9778 - val_acc: 0.5154\n",
            "Epoch 243/500\n",
            "3111/3111 [==============================] - 4s 1ms/step - loss: 0.3107 - acc: 0.8814 - val_loss: 1.9724 - val_acc: 0.5106\n",
            "Epoch 244/500\n",
            "3111/3111 [==============================] - 4s 1ms/step - loss: 0.3280 - acc: 0.8830 - val_loss: 2.0378 - val_acc: 0.5193\n",
            "Epoch 245/500\n",
            "3111/3111 [==============================] - 4s 1ms/step - loss: 0.3239 - acc: 0.8827 - val_loss: 1.8972 - val_acc: 0.5067\n",
            "Epoch 246/500\n",
            "3111/3111 [==============================] - 4s 1ms/step - loss: 0.3012 - acc: 0.8914 - val_loss: 2.0844 - val_acc: 0.5164\n",
            "Epoch 247/500\n",
            "3111/3111 [==============================] - 5s 1ms/step - loss: 0.3020 - acc: 0.8939 - val_loss: 1.9564 - val_acc: 0.5135\n",
            "Epoch 248/500\n",
            "3111/3111 [==============================] - 5s 1ms/step - loss: 0.3227 - acc: 0.8846 - val_loss: 2.0166 - val_acc: 0.5250\n",
            "Epoch 249/500\n",
            "3111/3111 [==============================] - 5s 1ms/step - loss: 0.3529 - acc: 0.8727 - val_loss: 1.9659 - val_acc: 0.5145\n",
            "Epoch 250/500\n",
            "3111/3111 [==============================] - 4s 1ms/step - loss: 0.3322 - acc: 0.8788 - val_loss: 1.9798 - val_acc: 0.5222\n",
            "Epoch 251/500\n",
            "3111/3111 [==============================] - 4s 1ms/step - loss: 0.3264 - acc: 0.8807 - val_loss: 2.1669 - val_acc: 0.5145\n",
            "Epoch 252/500\n",
            "3111/3111 [==============================] - 4s 1ms/step - loss: 0.3241 - acc: 0.8824 - val_loss: 1.9283 - val_acc: 0.5308\n",
            "Epoch 253/500\n",
            "3111/3111 [==============================] - 4s 1ms/step - loss: 0.3182 - acc: 0.8891 - val_loss: 2.0218 - val_acc: 0.5154\n",
            "Epoch 254/500\n",
            "3111/3111 [==============================] - 4s 1ms/step - loss: 0.3220 - acc: 0.8885 - val_loss: 1.9893 - val_acc: 0.5241\n",
            "Epoch 255/500\n",
            "3111/3111 [==============================] - 5s 1ms/step - loss: 0.2888 - acc: 0.8987 - val_loss: 1.9443 - val_acc: 0.5299\n",
            "Epoch 256/500\n",
            "3111/3111 [==============================] - 5s 1ms/step - loss: 0.3060 - acc: 0.8968 - val_loss: 1.9931 - val_acc: 0.5154\n",
            "Epoch 257/500\n",
            "3111/3111 [==============================] - 4s 1ms/step - loss: 0.3151 - acc: 0.8869 - val_loss: 2.0251 - val_acc: 0.5135\n",
            "Epoch 258/500\n",
            "3111/3111 [==============================] - 4s 1ms/step - loss: 0.3058 - acc: 0.8852 - val_loss: 2.1971 - val_acc: 0.5125\n",
            "Epoch 259/500\n",
            "3111/3111 [==============================] - 4s 1ms/step - loss: 0.3171 - acc: 0.8875 - val_loss: 2.0786 - val_acc: 0.5250\n",
            "Epoch 260/500\n",
            "3111/3111 [==============================] - 4s 1ms/step - loss: 0.3073 - acc: 0.8897 - val_loss: 2.0855 - val_acc: 0.5145\n",
            "Epoch 261/500\n",
            "3111/3111 [==============================] - 4s 1ms/step - loss: 0.3348 - acc: 0.8846 - val_loss: 1.9436 - val_acc: 0.5154\n",
            "Epoch 262/500\n",
            "3111/3111 [==============================] - 4s 1ms/step - loss: 0.3097 - acc: 0.8885 - val_loss: 2.0914 - val_acc: 0.5212\n",
            "Epoch 263/500\n",
            "3111/3111 [==============================] - 4s 1ms/step - loss: 0.3181 - acc: 0.8804 - val_loss: 2.0106 - val_acc: 0.5039\n",
            "Epoch 264/500\n",
            "3111/3111 [==============================] - 4s 1ms/step - loss: 0.3309 - acc: 0.8856 - val_loss: 2.0641 - val_acc: 0.5154\n",
            "Epoch 265/500\n",
            "3111/3111 [==============================] - 4s 1ms/step - loss: 0.2941 - acc: 0.8930 - val_loss: 2.1324 - val_acc: 0.5106\n",
            "Epoch 266/500\n",
            "3111/3111 [==============================] - 4s 1ms/step - loss: 0.2936 - acc: 0.8955 - val_loss: 2.0009 - val_acc: 0.5212\n",
            "Epoch 267/500\n",
            "3111/3111 [==============================] - 4s 1ms/step - loss: 0.3090 - acc: 0.8894 - val_loss: 2.0062 - val_acc: 0.5270\n",
            "Epoch 268/500\n",
            "3111/3111 [==============================] - 4s 1ms/step - loss: 0.3192 - acc: 0.8875 - val_loss: 2.0151 - val_acc: 0.5087\n",
            "Epoch 269/500\n",
            "3111/3111 [==============================] - 4s 1ms/step - loss: 0.3304 - acc: 0.8785 - val_loss: 1.9955 - val_acc: 0.5135\n",
            "Epoch 270/500\n",
            "3111/3111 [==============================] - 5s 1ms/step - loss: 0.3280 - acc: 0.8846 - val_loss: 1.8756 - val_acc: 0.5308\n",
            "Epoch 271/500\n",
            "3111/3111 [==============================] - 4s 1ms/step - loss: 0.2932 - acc: 0.9000 - val_loss: 1.9993 - val_acc: 0.5222\n",
            "Epoch 272/500\n",
            "3111/3111 [==============================] - 4s 1ms/step - loss: 0.2988 - acc: 0.8891 - val_loss: 2.0099 - val_acc: 0.5164\n",
            "Epoch 273/500\n",
            "3111/3111 [==============================] - 4s 1ms/step - loss: 0.3333 - acc: 0.8756 - val_loss: 2.0317 - val_acc: 0.5202\n",
            "Epoch 274/500\n",
            "3111/3111 [==============================] - 4s 1ms/step - loss: 0.3060 - acc: 0.8926 - val_loss: 2.0479 - val_acc: 0.5135\n",
            "Epoch 275/500\n",
            "3111/3111 [==============================] - 4s 1ms/step - loss: 0.3080 - acc: 0.8923 - val_loss: 2.0101 - val_acc: 0.5135\n",
            "Epoch 276/500\n",
            "3111/3111 [==============================] - 4s 1ms/step - loss: 0.3174 - acc: 0.8843 - val_loss: 2.0579 - val_acc: 0.5058\n",
            "Epoch 277/500\n",
            "3111/3111 [==============================] - 4s 1ms/step - loss: 0.3204 - acc: 0.8865 - val_loss: 1.9857 - val_acc: 0.5096\n",
            "Epoch 278/500\n",
            "3111/3111 [==============================] - 4s 1ms/step - loss: 0.3018 - acc: 0.8888 - val_loss: 2.0336 - val_acc: 0.5087\n",
            "Epoch 279/500\n",
            "3111/3111 [==============================] - 4s 1ms/step - loss: 0.3007 - acc: 0.8952 - val_loss: 2.1921 - val_acc: 0.5077\n",
            "Epoch 280/500\n",
            "3111/3111 [==============================] - 4s 1ms/step - loss: 0.3018 - acc: 0.8920 - val_loss: 2.1302 - val_acc: 0.5096\n",
            "Epoch 281/500\n",
            "3111/3111 [==============================] - 4s 1ms/step - loss: 0.2876 - acc: 0.8942 - val_loss: 2.1286 - val_acc: 0.5125\n",
            "Epoch 282/500\n",
            "3111/3111 [==============================] - 4s 1ms/step - loss: 0.3128 - acc: 0.8939 - val_loss: 2.0574 - val_acc: 0.5164\n",
            "Epoch 283/500\n",
            "3111/3111 [==============================] - 4s 1ms/step - loss: 0.3047 - acc: 0.8952 - val_loss: 2.1170 - val_acc: 0.5135\n",
            "Epoch 284/500\n",
            "3111/3111 [==============================] - 4s 1ms/step - loss: 0.3354 - acc: 0.8849 - val_loss: 1.9035 - val_acc: 0.5202\n",
            "Epoch 285/500\n",
            "3111/3111 [==============================] - 4s 1ms/step - loss: 0.3087 - acc: 0.8920 - val_loss: 2.0115 - val_acc: 0.5077\n",
            "Epoch 286/500\n",
            "3111/3111 [==============================] - 4s 1ms/step - loss: 0.2835 - acc: 0.8946 - val_loss: 2.0039 - val_acc: 0.5193\n",
            "Epoch 287/500\n",
            "3111/3111 [==============================] - 4s 1ms/step - loss: 0.3144 - acc: 0.8891 - val_loss: 2.0396 - val_acc: 0.5116\n",
            "Epoch 288/500\n",
            "3111/3111 [==============================] - 4s 1ms/step - loss: 0.3138 - acc: 0.8939 - val_loss: 2.0969 - val_acc: 0.5135\n",
            "Epoch 289/500\n",
            "3111/3111 [==============================] - 4s 1ms/step - loss: 0.3073 - acc: 0.8955 - val_loss: 2.0167 - val_acc: 0.5202\n",
            "Epoch 290/500\n",
            "3111/3111 [==============================] - 4s 1ms/step - loss: 0.3085 - acc: 0.8923 - val_loss: 2.1045 - val_acc: 0.5116\n",
            "Epoch 291/500\n",
            "3111/3111 [==============================] - 4s 1ms/step - loss: 0.3014 - acc: 0.8923 - val_loss: 2.0981 - val_acc: 0.5212\n",
            "Epoch 292/500\n",
            "3111/3111 [==============================] - 4s 1ms/step - loss: 0.3224 - acc: 0.8885 - val_loss: 2.0778 - val_acc: 0.5212\n",
            "Epoch 293/500\n",
            "3111/3111 [==============================] - 4s 1ms/step - loss: 0.2978 - acc: 0.8910 - val_loss: 2.0060 - val_acc: 0.5173\n",
            "Epoch 294/500\n",
            "3111/3111 [==============================] - 4s 1ms/step - loss: 0.2918 - acc: 0.8978 - val_loss: 2.0475 - val_acc: 0.5125\n",
            "Epoch 295/500\n",
            "3111/3111 [==============================] - 4s 1ms/step - loss: 0.2755 - acc: 0.9020 - val_loss: 2.0783 - val_acc: 0.5164\n",
            "Epoch 296/500\n",
            "3111/3111 [==============================] - 4s 1ms/step - loss: 0.3067 - acc: 0.8917 - val_loss: 1.9908 - val_acc: 0.5173\n",
            "Epoch 297/500\n",
            "3111/3111 [==============================] - 4s 1ms/step - loss: 0.2938 - acc: 0.8991 - val_loss: 2.0345 - val_acc: 0.5222\n",
            "Epoch 298/500\n",
            "3111/3111 [==============================] - 4s 1ms/step - loss: 0.2919 - acc: 0.8971 - val_loss: 2.0928 - val_acc: 0.5173\n",
            "Epoch 299/500\n",
            "3111/3111 [==============================] - 4s 1ms/step - loss: 0.3169 - acc: 0.8849 - val_loss: 2.1192 - val_acc: 0.5010\n",
            "Epoch 300/500\n",
            "3111/3111 [==============================] - 4s 1ms/step - loss: 0.3200 - acc: 0.8869 - val_loss: 2.1279 - val_acc: 0.5173\n",
            "Epoch 301/500\n",
            "3111/3111 [==============================] - 4s 1ms/step - loss: 0.3126 - acc: 0.8865 - val_loss: 2.0119 - val_acc: 0.5106\n",
            "Epoch 302/500\n",
            "3111/3111 [==============================] - 4s 1ms/step - loss: 0.2872 - acc: 0.9013 - val_loss: 2.0836 - val_acc: 0.5096\n",
            "Epoch 303/500\n",
            "3111/3111 [==============================] - 4s 1ms/step - loss: 0.2808 - acc: 0.8984 - val_loss: 2.1448 - val_acc: 0.5212\n",
            "Epoch 304/500\n",
            "3111/3111 [==============================] - 4s 1ms/step - loss: 0.2952 - acc: 0.8936 - val_loss: 2.0919 - val_acc: 0.5164\n",
            "Epoch 305/500\n",
            "3111/3111 [==============================] - 4s 1ms/step - loss: 0.3092 - acc: 0.8920 - val_loss: 1.9738 - val_acc: 0.5125\n",
            "Epoch 306/500\n",
            "3111/3111 [==============================] - 4s 1ms/step - loss: 0.3265 - acc: 0.8846 - val_loss: 2.1218 - val_acc: 0.5260\n",
            "Epoch 307/500\n",
            "3111/3111 [==============================] - 4s 1ms/step - loss: 0.3066 - acc: 0.8869 - val_loss: 2.0746 - val_acc: 0.5231\n",
            "Epoch 308/500\n",
            "3111/3111 [==============================] - 4s 1ms/step - loss: 0.2948 - acc: 0.8952 - val_loss: 2.0888 - val_acc: 0.5270\n",
            "Epoch 309/500\n",
            "3111/3111 [==============================] - 4s 1ms/step - loss: 0.2960 - acc: 0.8926 - val_loss: 2.0370 - val_acc: 0.5289\n",
            "Epoch 310/500\n",
            "3111/3111 [==============================] - 4s 1ms/step - loss: 0.2892 - acc: 0.8930 - val_loss: 2.1491 - val_acc: 0.5222\n",
            "Epoch 311/500\n",
            "3111/3111 [==============================] - 4s 1ms/step - loss: 0.3062 - acc: 0.8965 - val_loss: 2.1346 - val_acc: 0.5337\n",
            "Epoch 312/500\n",
            "3111/3111 [==============================] - 4s 1ms/step - loss: 0.3228 - acc: 0.8917 - val_loss: 2.0175 - val_acc: 0.5279\n",
            "Epoch 313/500\n",
            "3111/3111 [==============================] - 4s 1ms/step - loss: 0.2969 - acc: 0.8923 - val_loss: 2.0098 - val_acc: 0.5308\n",
            "Epoch 314/500\n",
            "3111/3111 [==============================] - 4s 1ms/step - loss: 0.2763 - acc: 0.8955 - val_loss: 2.1007 - val_acc: 0.5366\n",
            "Epoch 315/500\n",
            "3111/3111 [==============================] - 4s 1ms/step - loss: 0.3007 - acc: 0.8949 - val_loss: 2.1775 - val_acc: 0.5241\n",
            "Epoch 316/500\n",
            "3111/3111 [==============================] - 4s 1ms/step - loss: 0.3148 - acc: 0.8875 - val_loss: 2.0853 - val_acc: 0.5183\n",
            "Epoch 317/500\n",
            "3111/3111 [==============================] - 5s 1ms/step - loss: 0.3172 - acc: 0.8849 - val_loss: 2.0350 - val_acc: 0.5231\n",
            "Epoch 318/500\n",
            "3111/3111 [==============================] - 5s 1ms/step - loss: 0.2953 - acc: 0.8962 - val_loss: 2.0742 - val_acc: 0.5250\n",
            "Epoch 319/500\n",
            "3111/3111 [==============================] - 4s 1ms/step - loss: 0.2768 - acc: 0.8978 - val_loss: 2.0846 - val_acc: 0.5347\n",
            "Epoch 320/500\n",
            "3111/3111 [==============================] - 4s 1ms/step - loss: 0.2903 - acc: 0.8946 - val_loss: 2.0568 - val_acc: 0.5125\n",
            "Epoch 321/500\n",
            "3111/3111 [==============================] - 4s 1ms/step - loss: 0.2882 - acc: 0.8955 - val_loss: 2.0868 - val_acc: 0.5222\n",
            "Epoch 322/500\n",
            "3111/3111 [==============================] - 4s 1ms/step - loss: 0.3080 - acc: 0.8827 - val_loss: 2.0658 - val_acc: 0.5222\n",
            "Epoch 323/500\n",
            "3111/3111 [==============================] - 4s 1ms/step - loss: 0.2869 - acc: 0.9026 - val_loss: 2.2059 - val_acc: 0.5250\n",
            "Epoch 324/500\n",
            "3111/3111 [==============================] - 5s 1ms/step - loss: 0.2919 - acc: 0.8968 - val_loss: 2.1765 - val_acc: 0.5058\n",
            "Epoch 325/500\n",
            "3111/3111 [==============================] - 5s 2ms/step - loss: 0.3125 - acc: 0.8891 - val_loss: 2.1795 - val_acc: 0.5067\n",
            "Epoch 326/500\n",
            "3111/3111 [==============================] - 4s 1ms/step - loss: 0.2869 - acc: 0.8959 - val_loss: 2.0797 - val_acc: 0.5058\n",
            "Epoch 327/500\n",
            "3111/3111 [==============================] - 4s 1ms/step - loss: 0.3042 - acc: 0.8917 - val_loss: 2.1959 - val_acc: 0.5125\n",
            "Epoch 328/500\n",
            "3111/3111 [==============================] - 4s 1ms/step - loss: 0.2709 - acc: 0.9039 - val_loss: 2.1866 - val_acc: 0.5173\n",
            "Epoch 329/500\n",
            "3111/3111 [==============================] - 4s 1ms/step - loss: 0.3087 - acc: 0.8923 - val_loss: 2.0734 - val_acc: 0.5154\n",
            "Epoch 330/500\n",
            "3111/3111 [==============================] - 4s 1ms/step - loss: 0.2750 - acc: 0.9045 - val_loss: 2.2006 - val_acc: 0.5106\n",
            "Epoch 331/500\n",
            "3111/3111 [==============================] - 4s 1ms/step - loss: 0.2755 - acc: 0.8978 - val_loss: 2.0447 - val_acc: 0.5164\n",
            "Epoch 332/500\n",
            "3111/3111 [==============================] - 4s 1ms/step - loss: 0.2923 - acc: 0.8952 - val_loss: 1.9589 - val_acc: 0.5202\n",
            "Epoch 333/500\n",
            "3111/3111 [==============================] - 4s 1ms/step - loss: 0.3035 - acc: 0.8930 - val_loss: 2.0348 - val_acc: 0.5106\n",
            "Epoch 334/500\n",
            "3111/3111 [==============================] - 4s 1ms/step - loss: 0.2997 - acc: 0.8907 - val_loss: 2.1200 - val_acc: 0.5087\n",
            "Epoch 335/500\n",
            "3111/3111 [==============================] - 4s 1ms/step - loss: 0.2821 - acc: 0.9029 - val_loss: 2.1078 - val_acc: 0.5173\n",
            "Epoch 336/500\n",
            "3111/3111 [==============================] - 4s 1ms/step - loss: 0.2788 - acc: 0.9026 - val_loss: 2.0722 - val_acc: 0.5241\n",
            "Epoch 337/500\n",
            "3111/3111 [==============================] - 4s 1ms/step - loss: 0.2744 - acc: 0.9013 - val_loss: 2.0605 - val_acc: 0.5250\n",
            "Epoch 338/500\n",
            "3111/3111 [==============================] - 4s 1ms/step - loss: 0.2658 - acc: 0.9045 - val_loss: 2.2003 - val_acc: 0.5250\n",
            "Epoch 339/500\n",
            "3111/3111 [==============================] - 4s 1ms/step - loss: 0.2827 - acc: 0.8965 - val_loss: 2.1824 - val_acc: 0.5193\n",
            "Epoch 340/500\n",
            "3111/3111 [==============================] - 4s 1ms/step - loss: 0.2758 - acc: 0.9049 - val_loss: 2.1434 - val_acc: 0.5231\n",
            "Epoch 341/500\n",
            "3111/3111 [==============================] - 4s 1ms/step - loss: 0.2786 - acc: 0.9023 - val_loss: 2.0938 - val_acc: 0.5231\n",
            "Epoch 342/500\n",
            "3111/3111 [==============================] - 4s 1ms/step - loss: 0.2782 - acc: 0.9026 - val_loss: 2.1826 - val_acc: 0.5308\n",
            "Epoch 343/500\n",
            "3111/3111 [==============================] - 4s 1ms/step - loss: 0.2720 - acc: 0.9032 - val_loss: 2.1848 - val_acc: 0.5135\n",
            "Epoch 344/500\n",
            "3111/3111 [==============================] - 4s 1ms/step - loss: 0.2756 - acc: 0.8946 - val_loss: 2.1119 - val_acc: 0.5183\n",
            "Epoch 345/500\n",
            "3111/3111 [==============================] - 4s 1ms/step - loss: 0.2824 - acc: 0.8997 - val_loss: 2.1589 - val_acc: 0.5145\n",
            "Epoch 346/500\n",
            "3111/3111 [==============================] - 4s 1ms/step - loss: 0.2700 - acc: 0.9013 - val_loss: 2.0620 - val_acc: 0.5183\n",
            "Epoch 347/500\n",
            "3111/3111 [==============================] - 4s 1ms/step - loss: 0.2981 - acc: 0.8897 - val_loss: 2.1687 - val_acc: 0.5173\n",
            "Epoch 348/500\n",
            "3111/3111 [==============================] - 4s 1ms/step - loss: 0.2881 - acc: 0.9007 - val_loss: 2.1396 - val_acc: 0.5250\n",
            "Epoch 349/500\n",
            "3111/3111 [==============================] - 4s 1ms/step - loss: 0.2914 - acc: 0.8971 - val_loss: 2.1299 - val_acc: 0.5096\n",
            "Epoch 350/500\n",
            "3111/3111 [==============================] - 4s 1ms/step - loss: 0.2814 - acc: 0.9013 - val_loss: 2.0720 - val_acc: 0.5231\n",
            "Epoch 351/500\n",
            "3111/3111 [==============================] - 4s 1ms/step - loss: 0.2902 - acc: 0.8997 - val_loss: 2.1165 - val_acc: 0.5308\n",
            "Epoch 352/500\n",
            "3111/3111 [==============================] - 4s 1ms/step - loss: 0.2932 - acc: 0.8942 - val_loss: 2.0992 - val_acc: 0.5173\n",
            "Epoch 353/500\n",
            "3111/3111 [==============================] - 4s 1ms/step - loss: 0.2882 - acc: 0.8942 - val_loss: 2.2833 - val_acc: 0.5067\n",
            "Epoch 354/500\n",
            "3111/3111 [==============================] - 4s 1ms/step - loss: 0.2968 - acc: 0.8994 - val_loss: 2.1841 - val_acc: 0.5067\n",
            "Epoch 355/500\n",
            "3111/3111 [==============================] - 5s 1ms/step - loss: 0.2682 - acc: 0.9039 - val_loss: 2.2274 - val_acc: 0.5164\n",
            "Epoch 356/500\n",
            "3111/3111 [==============================] - 4s 1ms/step - loss: 0.2672 - acc: 0.9052 - val_loss: 2.1860 - val_acc: 0.5106\n",
            "Epoch 357/500\n",
            "3111/3111 [==============================] - 5s 1ms/step - loss: 0.2809 - acc: 0.9010 - val_loss: 2.1225 - val_acc: 0.5193\n",
            "Epoch 358/500\n",
            "3111/3111 [==============================] - 4s 1ms/step - loss: 0.2877 - acc: 0.8923 - val_loss: 2.1025 - val_acc: 0.5299\n",
            "Epoch 359/500\n",
            "3111/3111 [==============================] - 4s 1ms/step - loss: 0.2863 - acc: 0.9081 - val_loss: 2.2195 - val_acc: 0.5077\n",
            "Epoch 360/500\n",
            "3111/3111 [==============================] - 4s 1ms/step - loss: 0.2943 - acc: 0.8971 - val_loss: 2.2399 - val_acc: 0.4933\n",
            "Epoch 361/500\n",
            "3111/3111 [==============================] - 4s 1ms/step - loss: 0.2814 - acc: 0.8984 - val_loss: 2.3049 - val_acc: 0.5010\n",
            "Epoch 362/500\n",
            "3111/3111 [==============================] - 5s 1ms/step - loss: 0.2820 - acc: 0.8994 - val_loss: 2.1877 - val_acc: 0.5193\n",
            "Epoch 363/500\n",
            "3111/3111 [==============================] - 4s 1ms/step - loss: 0.3003 - acc: 0.8939 - val_loss: 2.1939 - val_acc: 0.5154\n",
            "Epoch 364/500\n",
            "3111/3111 [==============================] - 5s 1ms/step - loss: 0.2620 - acc: 0.9087 - val_loss: 2.1755 - val_acc: 0.5222\n",
            "Epoch 365/500\n",
            "3111/3111 [==============================] - 4s 1ms/step - loss: 0.2521 - acc: 0.9139 - val_loss: 2.1414 - val_acc: 0.5183\n",
            "Epoch 366/500\n",
            "3111/3111 [==============================] - 4s 1ms/step - loss: 0.2781 - acc: 0.8994 - val_loss: 2.0733 - val_acc: 0.5260\n",
            "Epoch 367/500\n",
            "3111/3111 [==============================] - 5s 1ms/step - loss: 0.3105 - acc: 0.8901 - val_loss: 2.1274 - val_acc: 0.5202\n",
            "Epoch 368/500\n",
            "3111/3111 [==============================] - 4s 1ms/step - loss: 0.2871 - acc: 0.9026 - val_loss: 2.1588 - val_acc: 0.5183\n",
            "Epoch 369/500\n",
            "3111/3111 [==============================] - 5s 1ms/step - loss: 0.2730 - acc: 0.9039 - val_loss: 2.1089 - val_acc: 0.5183\n",
            "Epoch 370/500\n",
            "3111/3111 [==============================] - 4s 1ms/step - loss: 0.2596 - acc: 0.9094 - val_loss: 2.1788 - val_acc: 0.5106\n",
            "Epoch 371/500\n",
            "3111/3111 [==============================] - 5s 1ms/step - loss: 0.2834 - acc: 0.9042 - val_loss: 2.1674 - val_acc: 0.5241\n",
            "Epoch 372/500\n",
            "3111/3111 [==============================] - 4s 1ms/step - loss: 0.2709 - acc: 0.9045 - val_loss: 2.1156 - val_acc: 0.5173\n",
            "Epoch 373/500\n",
            "3111/3111 [==============================] - 4s 1ms/step - loss: 0.2702 - acc: 0.8984 - val_loss: 2.1780 - val_acc: 0.5067\n",
            "Epoch 374/500\n",
            "3111/3111 [==============================] - 5s 1ms/step - loss: 0.2830 - acc: 0.8939 - val_loss: 2.2783 - val_acc: 0.5039\n",
            "Epoch 375/500\n",
            "3111/3111 [==============================] - 5s 1ms/step - loss: 0.2517 - acc: 0.9068 - val_loss: 2.1951 - val_acc: 0.5106\n",
            "Epoch 376/500\n",
            "3111/3111 [==============================] - 5s 1ms/step - loss: 0.2834 - acc: 0.8975 - val_loss: 2.2423 - val_acc: 0.5125\n",
            "Epoch 377/500\n",
            "3111/3111 [==============================] - 4s 1ms/step - loss: 0.2713 - acc: 0.9026 - val_loss: 2.2017 - val_acc: 0.5154\n",
            "Epoch 378/500\n",
            "3111/3111 [==============================] - 5s 1ms/step - loss: 0.2766 - acc: 0.8971 - val_loss: 2.2102 - val_acc: 0.5318\n",
            "Epoch 379/500\n",
            "3111/3111 [==============================] - 5s 1ms/step - loss: 0.2613 - acc: 0.9090 - val_loss: 2.1134 - val_acc: 0.5279\n",
            "Epoch 380/500\n",
            "3111/3111 [==============================] - 5s 1ms/step - loss: 0.2969 - acc: 0.8917 - val_loss: 2.0854 - val_acc: 0.5231\n",
            "Epoch 381/500\n",
            "3111/3111 [==============================] - 5s 1ms/step - loss: 0.2729 - acc: 0.9110 - val_loss: 1.9583 - val_acc: 0.5347\n",
            "Epoch 382/500\n",
            "3111/3111 [==============================] - 5s 1ms/step - loss: 0.2666 - acc: 0.9106 - val_loss: 2.0547 - val_acc: 0.5279\n",
            "Epoch 383/500\n",
            "3111/3111 [==============================] - 5s 1ms/step - loss: 0.2956 - acc: 0.8968 - val_loss: 2.0980 - val_acc: 0.5154\n",
            "Epoch 384/500\n",
            "3111/3111 [==============================] - 4s 1ms/step - loss: 0.2670 - acc: 0.9007 - val_loss: 2.1146 - val_acc: 0.5183\n",
            "Epoch 385/500\n",
            "3111/3111 [==============================] - 5s 1ms/step - loss: 0.2616 - acc: 0.9074 - val_loss: 2.1034 - val_acc: 0.5193\n",
            "Epoch 386/500\n",
            "3111/3111 [==============================] - 5s 1ms/step - loss: 0.2820 - acc: 0.8942 - val_loss: 2.0962 - val_acc: 0.5231\n",
            "Epoch 387/500\n",
            "3111/3111 [==============================] - 5s 1ms/step - loss: 0.2836 - acc: 0.8975 - val_loss: 2.1740 - val_acc: 0.5202\n",
            "Epoch 388/500\n",
            "3111/3111 [==============================] - 5s 1ms/step - loss: 0.3008 - acc: 0.8965 - val_loss: 2.1481 - val_acc: 0.5125\n",
            "Epoch 389/500\n",
            "3111/3111 [==============================] - 4s 1ms/step - loss: 0.2607 - acc: 0.9045 - val_loss: 2.1134 - val_acc: 0.5154\n",
            "Epoch 390/500\n",
            "3111/3111 [==============================] - 5s 1ms/step - loss: 0.2570 - acc: 0.9039 - val_loss: 2.2947 - val_acc: 0.5106\n",
            "Epoch 391/500\n",
            "3111/3111 [==============================] - 4s 1ms/step - loss: 0.2630 - acc: 0.9049 - val_loss: 2.1791 - val_acc: 0.5193\n",
            "Epoch 392/500\n",
            "3111/3111 [==============================] - 4s 1ms/step - loss: 0.2658 - acc: 0.9087 - val_loss: 2.2063 - val_acc: 0.5096\n",
            "Epoch 393/500\n",
            "3111/3111 [==============================] - 5s 1ms/step - loss: 0.2895 - acc: 0.8987 - val_loss: 2.2035 - val_acc: 0.5116\n",
            "Epoch 394/500\n",
            "3111/3111 [==============================] - 5s 1ms/step - loss: 0.2796 - acc: 0.8949 - val_loss: 2.1046 - val_acc: 0.5135\n",
            "Epoch 395/500\n",
            "3111/3111 [==============================] - 4s 1ms/step - loss: 0.2942 - acc: 0.8968 - val_loss: 2.1982 - val_acc: 0.5096\n",
            "Epoch 396/500\n",
            "3111/3111 [==============================] - 4s 1ms/step - loss: 0.2570 - acc: 0.9068 - val_loss: 2.1681 - val_acc: 0.5135\n",
            "Epoch 397/500\n",
            "3111/3111 [==============================] - 4s 1ms/step - loss: 0.2879 - acc: 0.8984 - val_loss: 2.2311 - val_acc: 0.5125\n",
            "Epoch 398/500\n",
            "3111/3111 [==============================] - 4s 1ms/step - loss: 0.2776 - acc: 0.8991 - val_loss: 2.2605 - val_acc: 0.5154\n",
            "Epoch 399/500\n",
            "3111/3111 [==============================] - 4s 1ms/step - loss: 0.2901 - acc: 0.8933 - val_loss: 2.1630 - val_acc: 0.5222\n",
            "Epoch 400/500\n",
            "3111/3111 [==============================] - 4s 1ms/step - loss: 0.2853 - acc: 0.8994 - val_loss: 2.0826 - val_acc: 0.5202\n",
            "Epoch 401/500\n",
            "3111/3111 [==============================] - 4s 1ms/step - loss: 0.2810 - acc: 0.9032 - val_loss: 2.1830 - val_acc: 0.5145\n",
            "Epoch 402/500\n",
            "3111/3111 [==============================] - 4s 1ms/step - loss: 0.2908 - acc: 0.9010 - val_loss: 2.1491 - val_acc: 0.5222\n",
            "Epoch 403/500\n",
            "3111/3111 [==============================] - 4s 1ms/step - loss: 0.2713 - acc: 0.9084 - val_loss: 2.1386 - val_acc: 0.5222\n",
            "Epoch 404/500\n",
            "3111/3111 [==============================] - 5s 1ms/step - loss: 0.2589 - acc: 0.9077 - val_loss: 2.3316 - val_acc: 0.5106\n",
            "Epoch 405/500\n",
            "3111/3111 [==============================] - 4s 1ms/step - loss: 0.2669 - acc: 0.9055 - val_loss: 2.2616 - val_acc: 0.5048\n",
            "Epoch 406/500\n",
            "3111/3111 [==============================] - 4s 1ms/step - loss: 0.2803 - acc: 0.8991 - val_loss: 2.1254 - val_acc: 0.5202\n",
            "Epoch 407/500\n",
            "3111/3111 [==============================] - 4s 1ms/step - loss: 0.2539 - acc: 0.9049 - val_loss: 2.1977 - val_acc: 0.5318\n",
            "Epoch 408/500\n",
            "3111/3111 [==============================] - 4s 1ms/step - loss: 0.2726 - acc: 0.9020 - val_loss: 2.1267 - val_acc: 0.5414\n",
            "Epoch 409/500\n",
            "3111/3111 [==============================] - 4s 1ms/step - loss: 0.2678 - acc: 0.8997 - val_loss: 2.1761 - val_acc: 0.5279\n",
            "Epoch 410/500\n",
            "3111/3111 [==============================] - 4s 1ms/step - loss: 0.2598 - acc: 0.9106 - val_loss: 2.1273 - val_acc: 0.5231\n",
            "Epoch 411/500\n",
            "3111/3111 [==============================] - 4s 1ms/step - loss: 0.2651 - acc: 0.9029 - val_loss: 2.2593 - val_acc: 0.5212\n",
            "Epoch 412/500\n",
            "3111/3111 [==============================] - 4s 1ms/step - loss: 0.2540 - acc: 0.9061 - val_loss: 2.2567 - val_acc: 0.5116\n",
            "Epoch 413/500\n",
            "3111/3111 [==============================] - 4s 1ms/step - loss: 0.2662 - acc: 0.9029 - val_loss: 2.1286 - val_acc: 0.5250\n",
            "Epoch 414/500\n",
            "3111/3111 [==============================] - 4s 1ms/step - loss: 0.2814 - acc: 0.8987 - val_loss: 2.1215 - val_acc: 0.5125\n",
            "Epoch 415/500\n",
            "3111/3111 [==============================] - 4s 1ms/step - loss: 0.2796 - acc: 0.9007 - val_loss: 2.1015 - val_acc: 0.5222\n",
            "Epoch 416/500\n",
            "3111/3111 [==============================] - 4s 1ms/step - loss: 0.2510 - acc: 0.9116 - val_loss: 2.0998 - val_acc: 0.5231\n",
            "Epoch 417/500\n",
            "3111/3111 [==============================] - 4s 1ms/step - loss: 0.2590 - acc: 0.9090 - val_loss: 2.1343 - val_acc: 0.5116\n",
            "Epoch 418/500\n",
            "3111/3111 [==============================] - 4s 1ms/step - loss: 0.2745 - acc: 0.9061 - val_loss: 2.1349 - val_acc: 0.5106\n",
            "Epoch 419/500\n",
            "3111/3111 [==============================] - 4s 1ms/step - loss: 0.2507 - acc: 0.9135 - val_loss: 2.0905 - val_acc: 0.5125\n",
            "Epoch 420/500\n",
            "3111/3111 [==============================] - 4s 1ms/step - loss: 0.2505 - acc: 0.9126 - val_loss: 2.3269 - val_acc: 0.5029\n",
            "Epoch 421/500\n",
            "3111/3111 [==============================] - 4s 1ms/step - loss: 0.2474 - acc: 0.9084 - val_loss: 2.2918 - val_acc: 0.5260\n",
            "Epoch 422/500\n",
            "3111/3111 [==============================] - 4s 1ms/step - loss: 0.2521 - acc: 0.9106 - val_loss: 2.3340 - val_acc: 0.5125\n",
            "Epoch 423/500\n",
            "3111/3111 [==============================] - 4s 1ms/step - loss: 0.2536 - acc: 0.9148 - val_loss: 2.2257 - val_acc: 0.5154\n",
            "Epoch 424/500\n",
            "3111/3111 [==============================] - 4s 1ms/step - loss: 0.2585 - acc: 0.9103 - val_loss: 2.1872 - val_acc: 0.5125\n",
            "Epoch 425/500\n",
            "3111/3111 [==============================] - 4s 1ms/step - loss: 0.2654 - acc: 0.9036 - val_loss: 2.2720 - val_acc: 0.5164\n",
            "Epoch 426/500\n",
            "3111/3111 [==============================] - 4s 1ms/step - loss: 0.2531 - acc: 0.9148 - val_loss: 2.3659 - val_acc: 0.5106\n",
            "Epoch 427/500\n",
            "3111/3111 [==============================] - 5s 1ms/step - loss: 0.2896 - acc: 0.9000 - val_loss: 2.2093 - val_acc: 0.5067\n",
            "Epoch 428/500\n",
            "3111/3111 [==============================] - 4s 1ms/step - loss: 0.2561 - acc: 0.9032 - val_loss: 2.3020 - val_acc: 0.5164\n",
            "Epoch 429/500\n",
            "3111/3111 [==============================] - 4s 1ms/step - loss: 0.2532 - acc: 0.9113 - val_loss: 2.3364 - val_acc: 0.5106\n",
            "Epoch 430/500\n",
            "3111/3111 [==============================] - 4s 1ms/step - loss: 0.2747 - acc: 0.9068 - val_loss: 2.2385 - val_acc: 0.5202\n",
            "Epoch 431/500\n",
            "3111/3111 [==============================] - 4s 1ms/step - loss: 0.2615 - acc: 0.9081 - val_loss: 2.2777 - val_acc: 0.5222\n",
            "Epoch 432/500\n",
            "3111/3111 [==============================] - 4s 1ms/step - loss: 0.2653 - acc: 0.9071 - val_loss: 2.1842 - val_acc: 0.5308\n",
            "Epoch 433/500\n",
            "3111/3111 [==============================] - 4s 1ms/step - loss: 0.2762 - acc: 0.9000 - val_loss: 2.1994 - val_acc: 0.5260\n",
            "Epoch 434/500\n",
            "3111/3111 [==============================] - 4s 1ms/step - loss: 0.2721 - acc: 0.9129 - val_loss: 2.1624 - val_acc: 0.5202\n",
            "Epoch 435/500\n",
            "3111/3111 [==============================] - 4s 1ms/step - loss: 0.2918 - acc: 0.8959 - val_loss: 2.2173 - val_acc: 0.5250\n",
            "Epoch 436/500\n",
            "3111/3111 [==============================] - 4s 1ms/step - loss: 0.2621 - acc: 0.9139 - val_loss: 2.1921 - val_acc: 0.5145\n",
            "Epoch 437/500\n",
            "3111/3111 [==============================] - 4s 1ms/step - loss: 0.2439 - acc: 0.9126 - val_loss: 2.3039 - val_acc: 0.5106\n",
            "Epoch 438/500\n",
            "3111/3111 [==============================] - 4s 1ms/step - loss: 0.2613 - acc: 0.9074 - val_loss: 2.3315 - val_acc: 0.5154\n",
            "Epoch 439/500\n",
            "3111/3111 [==============================] - 4s 1ms/step - loss: 0.2437 - acc: 0.9174 - val_loss: 2.2969 - val_acc: 0.5154\n",
            "Epoch 440/500\n",
            "3111/3111 [==============================] - 4s 1ms/step - loss: 0.2751 - acc: 0.9126 - val_loss: 2.1625 - val_acc: 0.5067\n",
            "Epoch 441/500\n",
            "3111/3111 [==============================] - 4s 1ms/step - loss: 0.2614 - acc: 0.9084 - val_loss: 2.1677 - val_acc: 0.5260\n",
            "Epoch 442/500\n",
            "3111/3111 [==============================] - 4s 1ms/step - loss: 0.2556 - acc: 0.9061 - val_loss: 2.2300 - val_acc: 0.5231\n",
            "Epoch 443/500\n",
            "3111/3111 [==============================] - 4s 1ms/step - loss: 0.2746 - acc: 0.9084 - val_loss: 2.1297 - val_acc: 0.5212\n",
            "Epoch 444/500\n",
            "3111/3111 [==============================] - 4s 1ms/step - loss: 0.2553 - acc: 0.9036 - val_loss: 2.2491 - val_acc: 0.5212\n",
            "Epoch 445/500\n",
            "3111/3111 [==============================] - 5s 1ms/step - loss: 0.2622 - acc: 0.9116 - val_loss: 2.1859 - val_acc: 0.5318\n",
            "Epoch 446/500\n",
            "3111/3111 [==============================] - 4s 1ms/step - loss: 0.2630 - acc: 0.9042 - val_loss: 2.2062 - val_acc: 0.5347\n",
            "Epoch 447/500\n",
            "3111/3111 [==============================] - 4s 1ms/step - loss: 0.2638 - acc: 0.9065 - val_loss: 2.2020 - val_acc: 0.5356\n",
            "Epoch 448/500\n",
            "3111/3111 [==============================] - 4s 1ms/step - loss: 0.2565 - acc: 0.9090 - val_loss: 2.3004 - val_acc: 0.5154\n",
            "Epoch 449/500\n",
            "3111/3111 [==============================] - 5s 1ms/step - loss: 0.2858 - acc: 0.9000 - val_loss: 2.1728 - val_acc: 0.5270\n",
            "Epoch 450/500\n",
            "3111/3111 [==============================] - 4s 1ms/step - loss: 0.2317 - acc: 0.9161 - val_loss: 2.2970 - val_acc: 0.5106\n",
            "Epoch 451/500\n",
            "3111/3111 [==============================] - 4s 1ms/step - loss: 0.2572 - acc: 0.9045 - val_loss: 2.1402 - val_acc: 0.5318\n",
            "Epoch 452/500\n",
            "3111/3111 [==============================] - 4s 1ms/step - loss: 0.2813 - acc: 0.9036 - val_loss: 2.2402 - val_acc: 0.5173\n",
            "Epoch 453/500\n",
            "3111/3111 [==============================] - 4s 1ms/step - loss: 0.2500 - acc: 0.9132 - val_loss: 2.1615 - val_acc: 0.5260\n",
            "Epoch 454/500\n",
            "3111/3111 [==============================] - 5s 1ms/step - loss: 0.2624 - acc: 0.9132 - val_loss: 2.2185 - val_acc: 0.5145\n",
            "Epoch 455/500\n",
            "3111/3111 [==============================] - 4s 1ms/step - loss: 0.2624 - acc: 0.9055 - val_loss: 2.2339 - val_acc: 0.5193\n",
            "Epoch 456/500\n",
            "3111/3111 [==============================] - 5s 2ms/step - loss: 0.2577 - acc: 0.9116 - val_loss: 2.2425 - val_acc: 0.5222\n",
            "Epoch 457/500\n",
            "3111/3111 [==============================] - 5s 1ms/step - loss: 0.2470 - acc: 0.9135 - val_loss: 2.2984 - val_acc: 0.5193\n",
            "Epoch 458/500\n",
            "3111/3111 [==============================] - 5s 1ms/step - loss: 0.2626 - acc: 0.9061 - val_loss: 2.2818 - val_acc: 0.5116\n",
            "Epoch 459/500\n",
            "3111/3111 [==============================] - 5s 1ms/step - loss: 0.2605 - acc: 0.9068 - val_loss: 2.2334 - val_acc: 0.5096\n",
            "Epoch 460/500\n",
            "3111/3111 [==============================] - 5s 1ms/step - loss: 0.2588 - acc: 0.9068 - val_loss: 2.1704 - val_acc: 0.5106\n",
            "Epoch 461/500\n",
            "3111/3111 [==============================] - 4s 1ms/step - loss: 0.2812 - acc: 0.9049 - val_loss: 2.1298 - val_acc: 0.5289\n",
            "Epoch 462/500\n",
            "3111/3111 [==============================] - 5s 1ms/step - loss: 0.2607 - acc: 0.9081 - val_loss: 2.2910 - val_acc: 0.5202\n",
            "Epoch 463/500\n",
            "3111/3111 [==============================] - 5s 1ms/step - loss: 0.2410 - acc: 0.9145 - val_loss: 2.2196 - val_acc: 0.5183\n",
            "Epoch 464/500\n",
            "3111/3111 [==============================] - 4s 1ms/step - loss: 0.2275 - acc: 0.9209 - val_loss: 2.3037 - val_acc: 0.5222\n",
            "Epoch 465/500\n",
            "3111/3111 [==============================] - 4s 1ms/step - loss: 0.2688 - acc: 0.8984 - val_loss: 2.1472 - val_acc: 0.5299\n",
            "Epoch 466/500\n",
            "3111/3111 [==============================] - 4s 1ms/step - loss: 0.2488 - acc: 0.9097 - val_loss: 2.2179 - val_acc: 0.5241\n",
            "Epoch 467/500\n",
            "3111/3111 [==============================] - 4s 1ms/step - loss: 0.2509 - acc: 0.9122 - val_loss: 2.1760 - val_acc: 0.5222\n",
            "Epoch 468/500\n",
            "3111/3111 [==============================] - 4s 1ms/step - loss: 0.2537 - acc: 0.9052 - val_loss: 2.2049 - val_acc: 0.5270\n",
            "Epoch 469/500\n",
            "3111/3111 [==============================] - 4s 1ms/step - loss: 0.2488 - acc: 0.9139 - val_loss: 2.1935 - val_acc: 0.5212\n",
            "Epoch 470/500\n",
            "3111/3111 [==============================] - 4s 1ms/step - loss: 0.2728 - acc: 0.9032 - val_loss: 2.2881 - val_acc: 0.5106\n",
            "Epoch 471/500\n",
            "3111/3111 [==============================] - 4s 1ms/step - loss: 0.2435 - acc: 0.9116 - val_loss: 2.1379 - val_acc: 0.5222\n",
            "Epoch 472/500\n",
            "3111/3111 [==============================] - 4s 1ms/step - loss: 0.2600 - acc: 0.9100 - val_loss: 2.1621 - val_acc: 0.5222\n",
            "Epoch 473/500\n",
            "3111/3111 [==============================] - 4s 1ms/step - loss: 0.2376 - acc: 0.9155 - val_loss: 2.2032 - val_acc: 0.5193\n",
            "Epoch 474/500\n",
            "3111/3111 [==============================] - 4s 1ms/step - loss: 0.2516 - acc: 0.9045 - val_loss: 2.2107 - val_acc: 0.5299\n",
            "Epoch 475/500\n",
            "3111/3111 [==============================] - 4s 1ms/step - loss: 0.2452 - acc: 0.9155 - val_loss: 2.1998 - val_acc: 0.5376\n",
            "Epoch 476/500\n",
            "3111/3111 [==============================] - 4s 1ms/step - loss: 0.2526 - acc: 0.9094 - val_loss: 2.1791 - val_acc: 0.5318\n",
            "Epoch 477/500\n",
            "3111/3111 [==============================] - 4s 1ms/step - loss: 0.2541 - acc: 0.9180 - val_loss: 2.1523 - val_acc: 0.5270\n",
            "Epoch 478/500\n",
            "3111/3111 [==============================] - 4s 1ms/step - loss: 0.2419 - acc: 0.9142 - val_loss: 2.2791 - val_acc: 0.5260\n",
            "Epoch 479/500\n",
            "3111/3111 [==============================] - 4s 1ms/step - loss: 0.2214 - acc: 0.9222 - val_loss: 2.3699 - val_acc: 0.5183\n",
            "Epoch 480/500\n",
            "3111/3111 [==============================] - 4s 1ms/step - loss: 0.2492 - acc: 0.9097 - val_loss: 2.3027 - val_acc: 0.5116\n",
            "Epoch 481/500\n",
            "3111/3111 [==============================] - 5s 1ms/step - loss: 0.2328 - acc: 0.9161 - val_loss: 2.2648 - val_acc: 0.5289\n",
            "Epoch 482/500\n",
            "3111/3111 [==============================] - 5s 1ms/step - loss: 0.2522 - acc: 0.9135 - val_loss: 2.3144 - val_acc: 0.5212\n",
            "Epoch 483/500\n",
            "3111/3111 [==============================] - 4s 1ms/step - loss: 0.2831 - acc: 0.9000 - val_loss: 2.2746 - val_acc: 0.5308\n",
            "Epoch 484/500\n",
            "3111/3111 [==============================] - 4s 1ms/step - loss: 0.2319 - acc: 0.9187 - val_loss: 2.2704 - val_acc: 0.5260\n",
            "Epoch 485/500\n",
            "3111/3111 [==============================] - 4s 1ms/step - loss: 0.2613 - acc: 0.8991 - val_loss: 2.2467 - val_acc: 0.5318\n",
            "Epoch 486/500\n",
            "3111/3111 [==============================] - 4s 1ms/step - loss: 0.2676 - acc: 0.9132 - val_loss: 2.2978 - val_acc: 0.5289\n",
            "Epoch 487/500\n",
            "3111/3111 [==============================] - 4s 1ms/step - loss: 0.2448 - acc: 0.9122 - val_loss: 2.3269 - val_acc: 0.5154\n",
            "Epoch 488/500\n",
            "3111/3111 [==============================] - 4s 1ms/step - loss: 0.2391 - acc: 0.9145 - val_loss: 2.3546 - val_acc: 0.5125\n",
            "Epoch 489/500\n",
            "3111/3111 [==============================] - 5s 1ms/step - loss: 0.2362 - acc: 0.9122 - val_loss: 2.2571 - val_acc: 0.5202\n",
            "Epoch 490/500\n",
            "3111/3111 [==============================] - 4s 1ms/step - loss: 0.2309 - acc: 0.9184 - val_loss: 2.3294 - val_acc: 0.5202\n",
            "Epoch 491/500\n",
            "3111/3111 [==============================] - 4s 1ms/step - loss: 0.2339 - acc: 0.9222 - val_loss: 2.2078 - val_acc: 0.5241\n",
            "Epoch 492/500\n",
            "3111/3111 [==============================] - 4s 1ms/step - loss: 0.2583 - acc: 0.9097 - val_loss: 2.2887 - val_acc: 0.5222\n",
            "Epoch 493/500\n",
            "3111/3111 [==============================] - 4s 1ms/step - loss: 0.2660 - acc: 0.9071 - val_loss: 2.3979 - val_acc: 0.5164\n",
            "Epoch 494/500\n",
            "3111/3111 [==============================] - 4s 1ms/step - loss: 0.2574 - acc: 0.9074 - val_loss: 2.3081 - val_acc: 0.5183\n",
            "Epoch 495/500\n",
            "3111/3111 [==============================] - 4s 1ms/step - loss: 0.2338 - acc: 0.9216 - val_loss: 2.3517 - val_acc: 0.5212\n",
            "Epoch 496/500\n",
            "3111/3111 [==============================] - 4s 1ms/step - loss: 0.2408 - acc: 0.9126 - val_loss: 2.2644 - val_acc: 0.5202\n",
            "Epoch 497/500\n",
            "3111/3111 [==============================] - 4s 1ms/step - loss: 0.2531 - acc: 0.9087 - val_loss: 2.3326 - val_acc: 0.5145\n",
            "Epoch 498/500\n",
            "3111/3111 [==============================] - 4s 1ms/step - loss: 0.2690 - acc: 0.9049 - val_loss: 2.3248 - val_acc: 0.5145\n",
            "Epoch 499/500\n",
            "3111/3111 [==============================] - 4s 1ms/step - loss: 0.2280 - acc: 0.9212 - val_loss: 2.3083 - val_acc: 0.5106\n",
            "Epoch 500/500\n",
            "3111/3111 [==============================] - 4s 1ms/step - loss: 0.2201 - acc: 0.9196 - val_loss: 2.3403 - val_acc: 0.5106\n"
          ],
          "name": "stdout"
        },
        {
          "output_type": "error",
          "ename": "AttributeError",
          "evalue": "ignored",
          "traceback": [
            "\u001b[0;31m---------------------------------------------------------------------------\u001b[0m",
            "\u001b[0;31mAttributeError\u001b[0m                            Traceback (most recent call last)",
            "\u001b[0;32m<ipython-input-239-cada4f3ee13f>\u001b[0m in \u001b[0;36m<module>\u001b[0;34m()\u001b[0m\n\u001b[1;32m      4\u001b[0m \u001b[0mstart\u001b[0m \u001b[0;34m=\u001b[0m \u001b[0mtime\u001b[0m\u001b[0;34m.\u001b[0m\u001b[0mtime\u001b[0m\u001b[0;34m(\u001b[0m\u001b[0;34m)\u001b[0m\u001b[0;34m\u001b[0m\u001b[0;34m\u001b[0m\u001b[0m\n\u001b[1;32m      5\u001b[0m \u001b[0mcnnet\u001b[0m\u001b[0;34m.\u001b[0m\u001b[0mfit\u001b[0m\u001b[0;34m(\u001b[0m\u001b[0mX\u001b[0m\u001b[0;34m,\u001b[0m \u001b[0my\u001b[0m\u001b[0;34m,\u001b[0m \u001b[0mnb_epoch\u001b[0m\u001b[0;34m=\u001b[0m\u001b[0mepoch_fold\u001b[0m\u001b[0;34m,\u001b[0m \u001b[0mvalidation_split\u001b[0m\u001b[0;34m=\u001b[0m\u001b[0;36m0.25\u001b[0m\u001b[0;34m,\u001b[0m \u001b[0mbatch_size\u001b[0m\u001b[0;34m=\u001b[0m\u001b[0;36m64\u001b[0m\u001b[0;34m,\u001b[0m \u001b[0mverbose\u001b[0m\u001b[0;34m=\u001b[0m\u001b[0;36m1\u001b[0m\u001b[0;34m,\u001b[0m \u001b[0mshuffle\u001b[0m\u001b[0;34m=\u001b[0m\u001b[0;32mTrue\u001b[0m\u001b[0;34m)\u001b[0m\u001b[0;34m\u001b[0m\u001b[0;34m\u001b[0m\u001b[0m\n\u001b[0;32m----> 6\u001b[0;31m \u001b[0mhist\u001b[0m\u001b[0;34m[\u001b[0m\u001b[0;34m:\u001b[0m\u001b[0;34m,\u001b[0m\u001b[0;36m0\u001b[0m\u001b[0;34m,\u001b[0m\u001b[0;34m:\u001b[0m\u001b[0;34m]\u001b[0m \u001b[0;34m=\u001b[0m \u001b[0;34m[\u001b[0m\u001b[0mcnnet_hist\u001b[0m\u001b[0;34m.\u001b[0m\u001b[0mhistory\u001b[0m\u001b[0;34m[\u001b[0m\u001b[0;34m'acc'\u001b[0m\u001b[0;34m]\u001b[0m\u001b[0;34m,\u001b[0m \u001b[0mcnnet_hist\u001b[0m\u001b[0;34m.\u001b[0m\u001b[0mhistory\u001b[0m\u001b[0;34m[\u001b[0m\u001b[0;34m'val_acc'\u001b[0m\u001b[0;34m]\u001b[0m\u001b[0;34m,\u001b[0m \u001b[0mcnnet_hist\u001b[0m\u001b[0;34m.\u001b[0m\u001b[0mhistory\u001b[0m\u001b[0;34m[\u001b[0m\u001b[0;34m'loss'\u001b[0m\u001b[0;34m]\u001b[0m\u001b[0;34m,\u001b[0m \u001b[0mcnnet_hist\u001b[0m\u001b[0;34m.\u001b[0m\u001b[0mhistory\u001b[0m\u001b[0;34m[\u001b[0m\u001b[0;34m'val_loss'\u001b[0m\u001b[0;34m]\u001b[0m\u001b[0;34m]\u001b[0m\u001b[0;34m\u001b[0m\u001b[0;34m\u001b[0m\u001b[0m\n\u001b[0m\u001b[1;32m      7\u001b[0m \u001b[0mprint\u001b[0m\u001b[0;34m(\u001b[0m\u001b[0;34mf'Time to train Network {time.time() - start}'\u001b[0m\u001b[0;34m)\u001b[0m\u001b[0;34m\u001b[0m\u001b[0;34m\u001b[0m\u001b[0m\n",
            "\u001b[0;31mAttributeError\u001b[0m: 'History' object has no attribute 'history'"
          ]
        }
      ]
    },
    {
      "cell_type": "code",
      "metadata": {
        "id": "lIVXxYcoX3vx",
        "colab_type": "code",
        "colab": {}
      },
      "source": [
        "hist = np.reshape(hist,(4,i*epoch_fold))\n",
        "plt.plot(hist[0]); plt.plot(hist[1])\n",
        "plt.legend(['train','val'], loc= 'lower left')"
      ],
      "execution_count": null,
      "outputs": []
    },
    {
      "cell_type": "code",
      "metadata": {
        "id": "aJHmNs4rI193",
        "colab_type": "code",
        "colab": {}
      },
      "source": [
        "cnn.get_weights()"
      ],
      "execution_count": null,
      "outputs": []
    },
    {
      "cell_type": "code",
      "metadata": {
        "id": "HGr3uob-Yy6d",
        "colab_type": "code",
        "colab": {}
      },
      "source": [
        "plt.plot(hist[2]); plt.plot(hist[3])\n",
        "plt.legend(['train', 'val'], loc='upper left')"
      ],
      "execution_count": null,
      "outputs": []
    },
    {
      "cell_type": "markdown",
      "metadata": {
        "id": "0iH_gy7PNM9s",
        "colab_type": "text"
      },
      "source": [
        "# Model Predictions\n"
      ]
    },
    {
      "cell_type": "code",
      "metadata": {
        "id": "_fLGloKK5l-4",
        "colab_type": "code",
        "colab": {
          "base_uri": "https://localhost:8080/",
          "height": 228
        },
        "outputId": "885a04a3-80b7-4959-b172-00e3edb2a623"
      },
      "source": [
        "y_predicted = cnnet.predict(X, batch_size=32, verbose=1)\n",
        "\n",
        "y_preds = []\n",
        "for row in y_predicted:\n",
        "    index, value = max(enumerate(row), key=operator.itemgetter(1))\n",
        "    y_preds.append(index)\n",
        "\n",
        "print (\"\" )   \n",
        "print (confusion_matrix(chunks_facies_cnn, y_preds))\n",
        "print ('Model F1 score',f1_score(chunks_facies_cnn, y_preds, average='weighted'))\n",
        "print('Model Accuracy Score',accuracy_score(chunks_facies_cnn,y_preds))"
      ],
      "execution_count": 241,
      "outputs": [
        {
          "output_type": "stream",
          "text": [
            "4149/4149 [==============================] - 2s 362us/step\n",
            "\n",
            "[[259   6   3   0   0   0   0   0   0]\n",
            " [  2 878  57   1   2   0   0   0   0]\n",
            " [  0  84 692   0   2   0   0   2   0]\n",
            " [  0   0   0 217  11  34   0   9   0]\n",
            " [  0   0   0   6 191  71   0  28   0]\n",
            " [  0   0   1   1   1 524   3  52   0]\n",
            " [  0   0   0   3   2   6 121   9   0]\n",
            " [  0   0   0   1   2  52   0 631   0]\n",
            " [  0   0   0   0   0  15   0  46 124]]\n",
            "Model F1 score 0.8758738371759398\n",
            "Model Accuracy Score 0.8765967703060978\n"
          ],
          "name": "stdout"
        }
      ]
    },
    {
      "cell_type": "code",
      "metadata": {
        "id": "L-SAVOJc6C_C",
        "colab_type": "code",
        "colab": {
          "base_uri": "https://localhost:8080/",
          "height": 33
        },
        "outputId": "545da005-53dc-44ad-be9f-88e710f8106c"
      },
      "source": [
        "conf  = confusion_matrix(chunks_facies_cnn,y_preds)\n",
        "\n",
        "adjacent_facies = np.array([[1], [0,2], [1], [4], [3,5], [4,6,7], [5,7], [5,6,8], [6,7]])\n",
        "accuracy_adj(conf,adjacent_facies)"
      ],
      "execution_count": 242,
      "outputs": [
        {
          "output_type": "execute_result",
          "data": {
            "text/plain": [
              "0.9744516751024344"
            ]
          },
          "metadata": {
            "tags": []
          },
          "execution_count": 242
        }
      ]
    },
    {
      "cell_type": "code",
      "metadata": {
        "id": "aj7gkdRk6Rgr",
        "colab_type": "code",
        "colab": {
          "base_uri": "https://localhost:8080/",
          "height": 407
        },
        "outputId": "238c5dd6-8f2d-4ba7-ce3b-233ed634b199"
      },
      "source": [
        "X_test = chunks_cnn_test\n",
        "\n",
        "X_test = X_test.reshape((chunks_cnn_test.shape[0], chunks_cnn_test.shape[1], chunks_cnn_test.shape[2], 1))\n",
        "\n",
        "\n",
        "y_predicted = cnnet.predict(X_test, batch_size=32, verbose=1)\n",
        "\n",
        "y_preds = []\n",
        "for row in y_predicted:\n",
        "    index, value = max(enumerate(row), key=operator.itemgetter(1))\n",
        "    y_preds.append(index)\n",
        "y_preds = np.array(y_preds)+1   \n",
        "print(y_preds)"
      ],
      "execution_count": 244,
      "outputs": [
        {
          "output_type": "stream",
          "text": [
            "830/830 [==============================] - 0s 376us/step\n",
            "[5 5 8 8 8 8 8 8 8 5 5 5 5 5 4 4 4 4 4 4 4 4 4 4 4 4 4 4 4 4 4 4 4 4 6 6 6\n",
            " 6 6 6 5 5 5 5 5 5 8 6 6 6 6 6 6 6 6 6 6 6 6 6 6 6 6 6 6 6 6 6 5 2 2 1 1 1\n",
            " 1 1 1 1 1 1 9 9 9 9 9 8 8 8 8 8 8 8 8 8 8 6 6 8 8 6 8 5 5 5 6 5 5 5 5 5 5\n",
            " 5 5 5 5 8 8 8 8 8 8 8 8 8 6 6 6 6 6 6 6 8 8 8 8 8 6 6 6 6 6 6 6 6 8 8 2 3\n",
            " 2 2 2 2 2 2 2 2 2 2 2 2 2 2 2 2 2 3 8 8 8 8 8 8 8 8 9 9 9 9 9 8 9 9 8 8 7\n",
            " 7 8 8 8 8 8 8 8 8 3 3 2 2 2 2 2 2 2 2 2 2 2 2 2 2 2 3 3 8 8 8 8 8 8 8 8 8\n",
            " 8 8 8 8 8 8 2 2 2 2 2 2 2 2 2 2 2 2 2 2 2 2 2 2 2 2 2 8 8 8 8 8 8 8 8 8 8\n",
            " 8 8 6 6 6 6 5 2 2 2 2 2 3 3 2 2 2 2 2 3 8 8 8 8 8 8 8 8 8 9 9 9 9 9 9 9 9\n",
            " 9 8 8 8 8 8 8 8 8 8 8 8 8 8 8 1 9 8 8 8 8 8 8 8 8 8 8 8 8 8 8 8 8 8 8 8 8\n",
            " 8 5 8 8 8 3 3 2 2 2 2 2 2 2 2 2 2 2 2 2 2 2 2 3 3 3 3 3 3 3 3 3 3 2 3 2 2\n",
            " 2 2 2 2 2 2 2 2 2 2 2 2 2 2 2 2 2 2 2 2 2 2 2 2 2 2 2 3 3 8 8 8 8 8 8 8 8\n",
            " 6 5 5 5 6 4 4 4 4 4 4 6 6 6 6 5 6 6 4 6 6 6 8 6 8 9 8 8 8 8 8 8 8 8 8 8 6\n",
            " 6 6 6 6 6 6 6 6 6 6 6 6 6 4 4 4 4 4 4 8 8 8 8 8 6 6 6 6 6 6 6 5 3 3 3 3 2\n",
            " 3 2 2 3 3 2 2 3 3 2 2 2 2 2 2 2 2 2 2 2 2 3 3 3 3 8 8 8 8 8 8 8 8 8 8 8 8\n",
            " 6 6 7 6 6 6 6 6 6 6 8 8 6 6 6 6 6 6 8 8 3 3 3 3 3 3 3 3 3 3 3 3 2 2 2 3 3\n",
            " 3 8 8 8 8 8 8 8 8 8 8 8 8 6 6 8 8 8 8 8 8 8 8 8 6 6 6 8 3 3 3 3 3 3 3 3 2\n",
            " 2 2 2 2 2 2 2 2 2 2 2 3 3 8 8 8 8 8 8 8 8 8 8 2 3 2 2 2 2 2 2 2 2 2 2 2 2\n",
            " 2 2 2 3 3 8 8 8 8 8 6 6 8 8 6 6 6 8 8 8 8 8 8 8 8 8 8 8 8 8 8 8 8 7 7 8 8\n",
            " 8 8 8 8 8 8 8 8 8 8 8 8 8 8 8 8 6 6 6 6 6 6 8 8 3 3 3 3 3 3 3 3 3 3 3 3 3\n",
            " 3 2 2 2 2 2 2 2 2 2 2 2 2 2 2 2 2 2 2 2 2 2 2 2 2 3 8 8 8 8 8 8 8 8 8 8 8\n",
            " 8 8 8 8 8 8 8 8 6 6 6 6 6 8 8 6 6 6 6 6 6 6 6 6 6 6 6 6 6 6 6 6 6 6 6 6 6\n",
            " 6 6 6 6 6 6 6 6 6 6 6 6 6 6 5 4 5 5 4 4 4 4 4 4 4 4 4 4 4 4 5 5 5 5 5 5 5\n",
            " 5 4 4 4 4 4 4 4 4 4 4 4 4 4 4 4]\n"
          ],
          "name": "stdout"
        }
      ]
    },
    {
      "cell_type": "code",
      "metadata": {
        "id": "0cHVpRkY6YH7",
        "colab_type": "code",
        "colab": {}
      },
      "source": [
        "test_data = pd.read_csv(\"/content/gdrive/My Drive/Data/validation_data_nofacies_online.csv\")\n",
        "test_data['Facies'] = pd.Series(y_preds)\n",
        "test_data.to_csv(\"/content/gdrive/My Drive/Data/validation_data_with_facies_new.csv\")"
      ],
      "execution_count": 245,
      "outputs": []
    },
    {
      "cell_type": "code",
      "metadata": {
        "id": "_v5BlFX97BgA",
        "colab_type": "code",
        "colab": {
          "base_uri": "https://localhost:8080/",
          "height": 147
        },
        "outputId": "f4c9b754-6d6d-4964-a1d3-b82d4e9da92f"
      },
      "source": [
        "print (test_data.head())"
      ],
      "execution_count": 58,
      "outputs": [
        {
          "output_type": "stream",
          "text": [
            "  Formation Well Name   Depth      GR  ...     PE  NM_M  RELPOS  Facies\n",
            "0     A1 SH    STUART  2808.0  66.276  ...  3.591     1   1.000       2\n",
            "1     A1 SH    STUART  2808.5  77.252  ...  3.341     1   0.978       2\n",
            "2     A1 SH    STUART  2809.0  82.899  ...  3.064     1   0.956       2\n",
            "3     A1 SH    STUART  2809.5  80.671  ...  2.977     1   0.933       2\n",
            "4     A1 SH    STUART  2810.0  75.971  ...  3.020     1   0.911       2\n",
            "\n",
            "[5 rows x 11 columns]\n"
          ],
          "name": "stdout"
        }
      ]
    },
    {
      "cell_type": "code",
      "metadata": {
        "id": "FB6mG0p37zJj",
        "colab_type": "code",
        "colab": {
          "base_uri": "https://localhost:8080/",
          "height": 34
        },
        "outputId": "33ebf317-837a-4007-c19d-473b4b31d5f6"
      },
      "source": [
        "set(y_preds)"
      ],
      "execution_count": null,
      "outputs": [
        {
          "output_type": "execute_result",
          "data": {
            "text/plain": [
              "{1, 2, 3, 4, 5, 6, 7, 8}"
            ]
          },
          "metadata": {
            "tags": []
          },
          "execution_count": 47
        }
      ]
    },
    {
      "cell_type": "markdown",
      "metadata": {
        "id": "VNQ4rTTZNuwU",
        "colab_type": "text"
      },
      "source": [
        "# Prediction on Blind Data"
      ]
    },
    {
      "cell_type": "code",
      "metadata": {
        "id": "uIId4q6a8vxM",
        "colab_type": "code",
        "colab": {
          "base_uri": "https://localhost:8080/",
          "height": 191
        },
        "outputId": "b94f1342-d3b2-4626-8a83-b7e90650f113"
      },
      "source": [
        "blind_data = pd.read_csv('/content/gdrive/My Drive/Data/blind_stuart_crawford_core_facies.csv')\n",
        "blind_data.head()"
      ],
      "execution_count": 246,
      "outputs": [
        {
          "output_type": "execute_result",
          "data": {
            "text/html": [
              "<div>\n",
              "<style scoped>\n",
              "    .dataframe tbody tr th:only-of-type {\n",
              "        vertical-align: middle;\n",
              "    }\n",
              "\n",
              "    .dataframe tbody tr th {\n",
              "        vertical-align: top;\n",
              "    }\n",
              "\n",
              "    .dataframe thead th {\n",
              "        text-align: right;\n",
              "    }\n",
              "</style>\n",
              "<table border=\"1\" class=\"dataframe\">\n",
              "  <thead>\n",
              "    <tr style=\"text-align: right;\">\n",
              "      <th></th>\n",
              "      <th>WellName</th>\n",
              "      <th>Depth.ft</th>\n",
              "      <th>LithCode</th>\n",
              "      <th>LithLabel</th>\n",
              "    </tr>\n",
              "  </thead>\n",
              "  <tbody>\n",
              "    <tr>\n",
              "      <th>0</th>\n",
              "      <td>STUART</td>\n",
              "      <td>2807.5</td>\n",
              "      <td>3</td>\n",
              "      <td>NM Shly Silt</td>\n",
              "    </tr>\n",
              "    <tr>\n",
              "      <th>1</th>\n",
              "      <td>STUART</td>\n",
              "      <td>2808.0</td>\n",
              "      <td>3</td>\n",
              "      <td>NM Shly Silt</td>\n",
              "    </tr>\n",
              "    <tr>\n",
              "      <th>2</th>\n",
              "      <td>STUART</td>\n",
              "      <td>2808.5</td>\n",
              "      <td>3</td>\n",
              "      <td>NM Shly Silt</td>\n",
              "    </tr>\n",
              "    <tr>\n",
              "      <th>3</th>\n",
              "      <td>STUART</td>\n",
              "      <td>2809.0</td>\n",
              "      <td>3</td>\n",
              "      <td>NM Shly Silt</td>\n",
              "    </tr>\n",
              "    <tr>\n",
              "      <th>4</th>\n",
              "      <td>STUART</td>\n",
              "      <td>2809.5</td>\n",
              "      <td>3</td>\n",
              "      <td>NM Shly Silt</td>\n",
              "    </tr>\n",
              "  </tbody>\n",
              "</table>\n",
              "</div>"
            ],
            "text/plain": [
              "  WellName  Depth.ft  LithCode     LithLabel\n",
              "0   STUART    2807.5         3  NM Shly Silt\n",
              "1   STUART    2808.0         3  NM Shly Silt\n",
              "2   STUART    2808.5         3  NM Shly Silt\n",
              "3   STUART    2809.0         3  NM Shly Silt\n",
              "4   STUART    2809.5         3  NM Shly Silt"
            ]
          },
          "metadata": {
            "tags": []
          },
          "execution_count": 246
        }
      ]
    },
    {
      "cell_type": "code",
      "metadata": {
        "id": "EqouuW-Q9YZr",
        "colab_type": "code",
        "colab": {}
      },
      "source": [
        "def merge_test(blind_data, test_data):\n",
        "  columns = blind_data.WellName.unique()\n",
        "  merge_col = 0\n",
        "  for column in columns:\n",
        "    blind = blind_data[blind_data['WellName'] == column]\n",
        "    test = test_data[test_data['Well Name']==column]\n",
        "    if type(merge_col) is int:\n",
        "      merge_col = pd.merge(blind, test, how = 'inner', left_on = 'Depth.ft', right_on= 'Depth')\n",
        "    else:\n",
        "      merge_col_2 = pd.merge(blind, test, how = 'inner', left_on = 'Depth.ft', right_on= 'Depth')\n",
        "  y_true = np.concatenate((merge_col.LithCode.values, merge_col_2.LithCode.values), axis = 0)\n",
        "  y_pred = np.concatenate((merge_col.Facies.values, merge_col_2.Facies.values), axis = 0)\n",
        "  return accuracy_score(y_true, y_pred)*100"
      ],
      "execution_count": 247,
      "outputs": []
    },
    {
      "cell_type": "code",
      "metadata": {
        "id": "tVE_jwtBQ5Sq",
        "colab_type": "code",
        "colab": {
          "base_uri": "https://localhost:8080/",
          "height": 33
        },
        "outputId": "30bd70ab-2c58-4b3b-a720-a83e6c6e624a"
      },
      "source": [
        "merge_test(blind_data, test_data)"
      ],
      "execution_count": 248,
      "outputs": [
        {
          "output_type": "execute_result",
          "data": {
            "text/plain": [
              "15.203955500618047"
            ]
          },
          "metadata": {
            "tags": []
          },
          "execution_count": 248
        }
      ]
    }
  ]
}